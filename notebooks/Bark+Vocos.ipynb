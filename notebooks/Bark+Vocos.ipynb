{
  "cells": [
    {
      "cell_type": "markdown",
      "metadata": {
        "colab_type": "text",
        "id": "view-in-github"
      },
      "source": [
        "<a href=\"https://colab.research.google.com/github/charactr-platform/vocos/blob/main/notebooks/Bark%2BVocos.ipynb\" target=\"_parent\"><img src=\"https://colab.research.google.com/assets/colab-badge.svg\" alt=\"Open In Colab\"/></a>"
      ]
    },
    {
      "cell_type": "markdown",
      "metadata": {
        "id": "NuRzVtHDZ_Gl"
      },
      "source": [
        "# Text-to-Audio Synthesis using Bark and Vocos"
      ]
    },
    {
      "cell_type": "markdown",
      "metadata": {
        "id": "zJFDte0daDAz"
      },
      "source": [
        "In this notebook, we use [Bark](https://github.com/suno-ai/bark) generative model to turn a text prompt into EnCodec audio tokens. These tokens then go through two decoders, EnCodec and Vocos, to reconstruct the audio waveform. Compare the results to discover the differences in audio quality and characteristics."
      ]
    },
    {
      "cell_type": "markdown",
      "metadata": {
        "id": "c9omqGDYnajY"
      },
      "source": [
        "Make sure you have Bark and Vocos installed:"
      ]
    },
    {
      "cell_type": "code",
      "execution_count": 1,
      "metadata": {
        "id": "voH44g90NvtV"
      },
      "outputs": [
        {
          "name": "stdout",
          "output_type": "stream",
          "text": [
            "Collecting git+https://github.com/suno-ai/bark.git\n",
            "  Cloning https://github.com/suno-ai/bark.git to /tmp/pip-req-build-n1c27wg_\n",
            "  Running command git clone -q https://github.com/suno-ai/bark.git /tmp/pip-req-build-n1c27wg_\n",
            "  Resolved https://github.com/suno-ai/bark.git to commit f4f32d4cd480dfec1c245d258174bc9bde3c2148\n",
            "  Installing build dependencies ... \u001b[?25ldone\n",
            "\u001b[?25h  Getting requirements to build wheel ... \u001b[?25ldone\n",
            "\u001b[?25h  Installing backend dependencies ... \u001b[?25ldone\n",
            "\u001b[?25h    Preparing wheel metadata ... \u001b[?25ldone\n",
            "\u001b[?25hCollecting funcy\n",
            "  Downloading funcy-2.0-py2.py3-none-any.whl (30 kB)\n",
            "Requirement already satisfied: transformers in /data3/tansongbin/anaconda/lib/python3.9/site-packages (from suno-bark==0.0.1a0) (4.36.2)\n",
            "Collecting boto3\n",
            "  Downloading boto3-1.34.93-py3-none-any.whl (139 kB)\n",
            "\u001b[K     |████████████████████████████████| 139 kB 46.4 MB/s eta 0:00:01\n",
            "\u001b[?25hRequirement already satisfied: tokenizers in /data3/tansongbin/anaconda/lib/python3.9/site-packages (from suno-bark==0.0.1a0) (0.15.0)\n",
            "Requirement already satisfied: encodec in /data3/tansongbin/anaconda/lib/python3.9/site-packages (from suno-bark==0.0.1a0) (0.1.1)\n",
            "Requirement already satisfied: scipy in /data3/tansongbin/anaconda/lib/python3.9/site-packages (from suno-bark==0.0.1a0) (1.7.1)\n",
            "Requirement already satisfied: torch in /data3/tansongbin/anaconda/lib/python3.9/site-packages (from suno-bark==0.0.1a0) (1.13.1)\n",
            "Requirement already satisfied: tqdm in /data3/tansongbin/anaconda/lib/python3.9/site-packages (from suno-bark==0.0.1a0) (4.62.3)\n",
            "Requirement already satisfied: huggingface-hub>=0.14.1 in /data3/tansongbin/anaconda/lib/python3.9/site-packages (from suno-bark==0.0.1a0) (0.20.2)\n",
            "Requirement already satisfied: numpy in /data3/tansongbin/anaconda/lib/python3.9/site-packages (from suno-bark==0.0.1a0) (1.20.3)\n",
            "Requirement already satisfied: pyyaml>=5.1 in /data3/tansongbin/anaconda/lib/python3.9/site-packages (from huggingface-hub>=0.14.1->suno-bark==0.0.1a0) (6.0)\n",
            "Requirement already satisfied: fsspec>=2023.5.0 in /data3/tansongbin/anaconda/lib/python3.9/site-packages (from huggingface-hub>=0.14.1->suno-bark==0.0.1a0) (2023.12.2)\n",
            "Requirement already satisfied: packaging>=20.9 in /data3/tansongbin/anaconda/lib/python3.9/site-packages (from huggingface-hub>=0.14.1->suno-bark==0.0.1a0) (21.0)\n",
            "Requirement already satisfied: filelock in /data3/tansongbin/anaconda/lib/python3.9/site-packages (from huggingface-hub>=0.14.1->suno-bark==0.0.1a0) (3.3.1)\n",
            "Requirement already satisfied: requests in /data3/tansongbin/anaconda/lib/python3.9/site-packages (from huggingface-hub>=0.14.1->suno-bark==0.0.1a0) (2.26.0)\n",
            "Requirement already satisfied: typing-extensions>=3.7.4.3 in /data3/tansongbin/anaconda/lib/python3.9/site-packages (from huggingface-hub>=0.14.1->suno-bark==0.0.1a0) (4.9.0)\n",
            "Requirement already satisfied: pyparsing>=2.0.2 in /data3/tansongbin/anaconda/lib/python3.9/site-packages (from packaging>=20.9->huggingface-hub>=0.14.1->suno-bark==0.0.1a0) (3.0.4)\n",
            "Collecting botocore<1.35.0,>=1.34.93\n",
            "  Downloading botocore-1.34.93-py3-none-any.whl (12.2 MB)\n",
            "\u001b[K     |████████████████████████████████| 12.2 MB 89.0 MB/s eta 0:00:01               | 276 kB 89.0 MB/s eta 0:00:01\n",
            "\u001b[?25hCollecting s3transfer<0.11.0,>=0.10.0\n",
            "  Downloading s3transfer-0.10.1-py3-none-any.whl (82 kB)\n",
            "\u001b[K     |████████████████████████████████| 82 kB 1.0 MB/s  eta 0:00:01\n",
            "\u001b[?25hCollecting jmespath<2.0.0,>=0.7.1\n",
            "  Downloading jmespath-1.0.1-py3-none-any.whl (20 kB)\n",
            "Requirement already satisfied: urllib3<1.27,>=1.25.4 in /data3/tansongbin/anaconda/lib/python3.9/site-packages (from botocore<1.35.0,>=1.34.93->boto3->suno-bark==0.0.1a0) (1.26.18)\n",
            "Requirement already satisfied: python-dateutil<3.0.0,>=2.1 in /data3/tansongbin/anaconda/lib/python3.9/site-packages (from botocore<1.35.0,>=1.34.93->boto3->suno-bark==0.0.1a0) (2.8.2)\n",
            "Requirement already satisfied: six>=1.5 in /data3/tansongbin/anaconda/lib/python3.9/site-packages (from python-dateutil<3.0.0,>=2.1->botocore<1.35.0,>=1.34.93->boto3->suno-bark==0.0.1a0) (1.16.0)\n",
            "Requirement already satisfied: torchaudio in /data3/tansongbin/anaconda/lib/python3.9/site-packages (from encodec->suno-bark==0.0.1a0) (0.13.1)\n",
            "Requirement already satisfied: einops in /data3/tansongbin/anaconda/lib/python3.9/site-packages (from encodec->suno-bark==0.0.1a0) (0.7.0)\n",
            "Requirement already satisfied: certifi>=2017.4.17 in /data3/tansongbin/anaconda/lib/python3.9/site-packages (from requests->huggingface-hub>=0.14.1->suno-bark==0.0.1a0) (2021.10.8)\n",
            "Requirement already satisfied: charset-normalizer~=2.0.0 in /data3/tansongbin/anaconda/lib/python3.9/site-packages (from requests->huggingface-hub>=0.14.1->suno-bark==0.0.1a0) (2.0.4)\n",
            "Requirement already satisfied: idna<4,>=2.5 in /data3/tansongbin/anaconda/lib/python3.9/site-packages (from requests->huggingface-hub>=0.14.1->suno-bark==0.0.1a0) (3.2)\n",
            "Requirement already satisfied: nvidia-cublas-cu11==11.10.3.66 in /data3/tansongbin/anaconda/lib/python3.9/site-packages (from torch->suno-bark==0.0.1a0) (11.10.3.66)\n",
            "Requirement already satisfied: nvidia-cuda-nvrtc-cu11==11.7.99 in /data3/tansongbin/anaconda/lib/python3.9/site-packages (from torch->suno-bark==0.0.1a0) (11.7.99)\n",
            "Requirement already satisfied: nvidia-cuda-runtime-cu11==11.7.99 in /data3/tansongbin/anaconda/lib/python3.9/site-packages (from torch->suno-bark==0.0.1a0) (11.7.99)\n",
            "Requirement already satisfied: nvidia-cudnn-cu11==8.5.0.96 in /data3/tansongbin/anaconda/lib/python3.9/site-packages (from torch->suno-bark==0.0.1a0) (8.5.0.96)\n",
            "Requirement already satisfied: setuptools in /data3/tansongbin/anaconda/lib/python3.9/site-packages (from nvidia-cublas-cu11==11.10.3.66->torch->suno-bark==0.0.1a0) (58.0.4)\n",
            "Requirement already satisfied: wheel in /data3/tansongbin/anaconda/lib/python3.9/site-packages (from nvidia-cublas-cu11==11.10.3.66->torch->suno-bark==0.0.1a0) (0.37.0)\n",
            "Requirement already satisfied: safetensors>=0.3.1 in /data3/tansongbin/anaconda/lib/python3.9/site-packages (from transformers->suno-bark==0.0.1a0) (0.4.1)\n",
            "Requirement already satisfied: regex!=2019.12.17 in /data3/tansongbin/anaconda/lib/python3.9/site-packages (from transformers->suno-bark==0.0.1a0) (2021.8.3)\n",
            "Building wheels for collected packages: suno-bark\n",
            "  Building wheel for suno-bark (PEP 517) ... \u001b[?25ldone\n",
            "\u001b[?25h  Created wheel for suno-bark: filename=suno_bark-0.0.1a0-py3-none-any.whl size=2567358 sha256=5b769203b0758e1a8fbcb39dcc397472abfe6d9d8b0a5e0a4962a630518eaf7a\n",
            "  Stored in directory: /tmp/pip-ephem-wheel-cache-s4801o8o/wheels/33/0a/86/7ea5e0447e5e396fb416e6111da83b670d4a6d0043f5288f2d\n",
            "Successfully built suno-bark\n",
            "Installing collected packages: jmespath, botocore, s3transfer, funcy, boto3, suno-bark\n",
            "Successfully installed boto3-1.34.93 botocore-1.34.93 funcy-2.0 jmespath-1.0.1 s3transfer-0.10.1 suno-bark-0.0.1a0\n",
            "Collecting vocos\n",
            "  Downloading vocos-0.1.0-py3-none-any.whl (24 kB)\n",
            "Requirement already satisfied: einops in /data3/tansongbin/anaconda/lib/python3.9/site-packages (from vocos) (0.7.0)\n",
            "Requirement already satisfied: numpy in /data3/tansongbin/anaconda/lib/python3.9/site-packages (from vocos) (1.20.3)\n",
            "Requirement already satisfied: scipy in /data3/tansongbin/anaconda/lib/python3.9/site-packages (from vocos) (1.7.1)\n",
            "Requirement already satisfied: pyyaml in /data3/tansongbin/anaconda/lib/python3.9/site-packages (from vocos) (6.0)\n",
            "Requirement already satisfied: huggingface-hub in /data3/tansongbin/anaconda/lib/python3.9/site-packages (from vocos) (0.20.2)\n",
            "Requirement already satisfied: torchaudio in /data3/tansongbin/anaconda/lib/python3.9/site-packages (from vocos) (0.13.1)\n",
            "Requirement already satisfied: encodec==0.1.1 in /data3/tansongbin/anaconda/lib/python3.9/site-packages (from vocos) (0.1.1)\n",
            "Requirement already satisfied: torch in /data3/tansongbin/anaconda/lib/python3.9/site-packages (from vocos) (1.13.1)\n",
            "Requirement already satisfied: fsspec>=2023.5.0 in /data3/tansongbin/anaconda/lib/python3.9/site-packages (from huggingface-hub->vocos) (2023.12.2)\n",
            "Requirement already satisfied: filelock in /data3/tansongbin/anaconda/lib/python3.9/site-packages (from huggingface-hub->vocos) (3.3.1)\n",
            "Requirement already satisfied: packaging>=20.9 in /data3/tansongbin/anaconda/lib/python3.9/site-packages (from huggingface-hub->vocos) (21.0)\n",
            "Requirement already satisfied: requests in /data3/tansongbin/anaconda/lib/python3.9/site-packages (from huggingface-hub->vocos) (2.26.0)\n",
            "Requirement already satisfied: typing-extensions>=3.7.4.3 in /data3/tansongbin/anaconda/lib/python3.9/site-packages (from huggingface-hub->vocos) (4.9.0)\n",
            "Requirement already satisfied: tqdm>=4.42.1 in /data3/tansongbin/anaconda/lib/python3.9/site-packages (from huggingface-hub->vocos) (4.62.3)\n",
            "Requirement already satisfied: pyparsing>=2.0.2 in /data3/tansongbin/anaconda/lib/python3.9/site-packages (from packaging>=20.9->huggingface-hub->vocos) (3.0.4)\n",
            "Requirement already satisfied: certifi>=2017.4.17 in /data3/tansongbin/anaconda/lib/python3.9/site-packages (from requests->huggingface-hub->vocos) (2021.10.8)\n",
            "Requirement already satisfied: urllib3<1.27,>=1.21.1 in /data3/tansongbin/anaconda/lib/python3.9/site-packages (from requests->huggingface-hub->vocos) (1.26.18)\n",
            "Requirement already satisfied: idna<4,>=2.5 in /data3/tansongbin/anaconda/lib/python3.9/site-packages (from requests->huggingface-hub->vocos) (3.2)\n",
            "Requirement already satisfied: charset-normalizer~=2.0.0 in /data3/tansongbin/anaconda/lib/python3.9/site-packages (from requests->huggingface-hub->vocos) (2.0.4)\n",
            "Requirement already satisfied: nvidia-cuda-runtime-cu11==11.7.99 in /data3/tansongbin/anaconda/lib/python3.9/site-packages (from torch->vocos) (11.7.99)\n",
            "Requirement already satisfied: nvidia-cudnn-cu11==8.5.0.96 in /data3/tansongbin/anaconda/lib/python3.9/site-packages (from torch->vocos) (8.5.0.96)\n",
            "Requirement already satisfied: nvidia-cuda-nvrtc-cu11==11.7.99 in /data3/tansongbin/anaconda/lib/python3.9/site-packages (from torch->vocos) (11.7.99)\n",
            "Requirement already satisfied: nvidia-cublas-cu11==11.10.3.66 in /data3/tansongbin/anaconda/lib/python3.9/site-packages (from torch->vocos) (11.10.3.66)\n",
            "Requirement already satisfied: wheel in /data3/tansongbin/anaconda/lib/python3.9/site-packages (from nvidia-cublas-cu11==11.10.3.66->torch->vocos) (0.37.0)\n",
            "Requirement already satisfied: setuptools in /data3/tansongbin/anaconda/lib/python3.9/site-packages (from nvidia-cublas-cu11==11.10.3.66->torch->vocos) (58.0.4)\n",
            "Installing collected packages: vocos\n",
            "Successfully installed vocos-0.1.0\n"
          ]
        }
      ],
      "source": [
        "!pip install git+https://github.com/suno-ai/bark.git\n",
        "!pip install vocos"
      ]
    },
    {
      "cell_type": "markdown",
      "metadata": {
        "id": "s3cEjOIuj6tq"
      },
      "source": [
        "Download and load Bark models"
      ]
    },
    {
      "cell_type": "code",
      "execution_count": null,
      "metadata": {
        "id": "1H7XtXRMjxUM"
      },
      "outputs": [],
      "source": [
        "from bark import preload_models\n",
        "\n",
        "preload_models()"
      ]
    },
    {
      "cell_type": "markdown",
      "metadata": {
        "id": "YO1m0dJ1j-F5"
      },
      "source": [
        "Download and load Vocos."
      ]
    },
    {
      "cell_type": "code",
      "execution_count": 12,
      "metadata": {
        "id": "COQYTDDFkBCq"
      },
      "outputs": [],
      "source": [
        "from vocos import Vocos\n",
        "import torch\n",
        "import librosa\n",
        "import soundfile as sf\n",
        "import os \n",
        "import numpy as np\n",
        "import torchaudio\n",
        "\n",
        "\n",
        "def file_pathname(target_dir, target_suffix=\".wav\"):\n",
        "    find_res = []\n",
        "    target_suffix_dot = target_suffix\n",
        "    walk_generator = os.walk(target_dir)\n",
        "    for root_path, dirs, files in walk_generator:\n",
        "        if len(files) < 1:\n",
        "            continue\n",
        "        for file in files:\n",
        "            file_name, suffix_name = os.path.splitext(file)\n",
        "            if suffix_name == target_suffix_dot:\n",
        "                find_res.append((os.path.normpath(root_path), file_name))\n",
        "    return find_res\n",
        "def check_path(path1):\n",
        "    if type(path1) == list:\n",
        "        flag = True\n",
        "        for p in path1:\n",
        "            flag_tmp = check_path(p)\n",
        "            flag = (flag and flag_tmp)\n",
        "        return flag\n",
        "    flag = os.path.isdir(path1)\n",
        "    if not flag:\n",
        "        os.makedirs(path1)\n",
        "        print(path1+' has been created')\n",
        "    return flag\n"
      ]
    },
    {
      "cell_type": "code",
      "execution_count": 16,
      "metadata": {},
      "outputs": [
        {
          "name": "stdout",
          "output_type": "stream",
          "text": [
            "/data3/tansongbin/vocoder_projects/dataset/output/vocos/9139459052777997503-359_A1F021wWnWMyn8iR#-40-4+65354297751687267-781_A1D141ceIFmJhMlV#-16-3+8894785898129003698-97_A44121wyOt2SQSsX#-13-4_generated.wav\n",
            "/data3/tansongbin/vocoder_projects/dataset/output/vocos/test_audio_1_generated.wav\n",
            "/data3/tansongbin/vocoder_projects/dataset/output/vocos/test_audio_2_generated.wav\n",
            "/data3/tansongbin/vocoder_projects/dataset/output/vocos/9120253738173975542-20_A2C240MtQXHWxUcS#-6-3+4457760131197602548-324_A2A221203uEoWjmk#-35-4+4315090185852769861-237_A3Z121hkTwz0e0Vg#-21-4_generated.wav\n"
          ]
        }
      ],
      "source": [
        "device = torch.device(\"cuda\" if torch.cuda.is_available() else \"cpu\")\n",
        "vocos = Vocos.from_pretrained(\"charactr/vocos-mel-24khz\").to(device)\n",
        "L = file_pathname(r'/data3/tansongbin/vocoder_projects/dataset/input','.wav')\n",
        "for p,n in L:\n",
        "    y, sr = torchaudio.load(os.path.join(p,n+'.wav'))\n",
        "    if y.size(0) > 1:  # mix to mono\n",
        "        y = y.mean(dim=0, keepdim=True)\n",
        "    y = torchaudio.functional.resample(y, orig_freq=sr, new_freq=24000).to(device)\n",
        "    y_g_hat = vocos(y)\n",
        "    audio = y_g_hat.squeeze().cpu().numpy()\n",
        "    audio = librosa.resample(y=audio, orig_sr=24000, target_sr=16000)\n",
        "    if np.max(np.abs(audio)) > 1.0:\n",
        "        audio/=np.max(np.abs(audio))\n",
        "    output_file = os.path.join(r'/data3/tansongbin/vocoder_projects/dataset/output/vocos', n+'_generated.wav')\n",
        "    check_path(r'/data3/tansongbin/vocoder_projects/dataset/output/vocos')\n",
        "    sf.write(output_file, audio, 16000)\n",
        "    print(output_file)\n"
      ]
    },
    {
      "cell_type": "code",
      "execution_count": null,
      "metadata": {},
      "outputs": [],
      "source": []
    },
    {
      "cell_type": "markdown",
      "metadata": {
        "id": "--RjqW0rk5JQ"
      },
      "source": [
        "We are going to reuse `text_to_semantic` from Bark API, but to reconstruct audio waveform with a custom vododer, we need to slightly redefine the API to return `fine_tokens`."
      ]
    },
    {
      "cell_type": "code",
      "execution_count": null,
      "metadata": {
        "id": "OiUsuN2DNl5S"
      },
      "outputs": [],
      "source": [
        "from typing import Optional, Union, Dict\n",
        "\n",
        "import numpy as np\n",
        "from bark.generation import generate_coarse, generate_fine\n",
        "\n",
        "\n",
        "def semantic_to_audio_tokens(\n",
        "    semantic_tokens: np.ndarray,\n",
        "    history_prompt: Optional[Union[Dict, str]] = None,\n",
        "    temp: float = 0.7,\n",
        "    silent: bool = False,\n",
        "    output_full: bool = False,\n",
        "):\n",
        "    coarse_tokens = generate_coarse(\n",
        "        semantic_tokens, history_prompt=history_prompt, temp=temp, silent=silent, use_kv_caching=True\n",
        "    )\n",
        "    fine_tokens = generate_fine(coarse_tokens, history_prompt=history_prompt, temp=0.5)\n",
        "\n",
        "    if output_full:\n",
        "        full_generation = {\n",
        "            \"semantic_prompt\": semantic_tokens,\n",
        "            \"coarse_prompt\": coarse_tokens,\n",
        "            \"fine_prompt\": fine_tokens,\n",
        "        }\n",
        "        return full_generation\n",
        "    return fine_tokens"
      ]
    },
    {
      "cell_type": "markdown",
      "metadata": {
        "id": "Cv8KCzXlmoF9"
      },
      "source": [
        "Let's create a text prompt and generate audio tokens:"
      ]
    },
    {
      "cell_type": "code",
      "execution_count": 11,
      "metadata": {
        "id": "pDmSTutoOH_G"
      },
      "outputs": [
        {
          "data": {
            "application/vnd.jupyter.widget-view+json": {
              "model_id": "d56c810e729e4e48be523b55f64bcb33",
              "version_major": 2,
              "version_minor": 0
            },
            "text/plain": [
              "text_2.pt:   0%|          | 0.00/5.35G [00:00<?, ?B/s]"
            ]
          },
          "metadata": {},
          "output_type": "display_data"
        },
        {
          "ename": "KeyboardInterrupt",
          "evalue": "",
          "output_type": "error",
          "traceback": [
            "\u001b[0;31m---------------------------------------------------------------------------\u001b[0m",
            "\u001b[0;31mKeyboardInterrupt\u001b[0m                         Traceback (most recent call last)",
            "\u001b[0;32m/tmp/ipykernel_200116/1180464818.py\u001b[0m in \u001b[0;36m<module>\u001b[0;34m\u001b[0m\n\u001b[1;32m      3\u001b[0m \u001b[0mhistory_prompt\u001b[0m \u001b[0;34m=\u001b[0m \u001b[0;32mNone\u001b[0m\u001b[0;34m\u001b[0m\u001b[0;34m\u001b[0m\u001b[0m\n\u001b[1;32m      4\u001b[0m \u001b[0mtext_prompt\u001b[0m \u001b[0;34m=\u001b[0m \u001b[0;34m\"So, you've heard about neural vocoding? [laughs] We've been messing around with this new model called Vocos.\"\u001b[0m\u001b[0;34m\u001b[0m\u001b[0;34m\u001b[0m\u001b[0m\n\u001b[0;32m----> 5\u001b[0;31m \u001b[0msemantic_tokens\u001b[0m \u001b[0;34m=\u001b[0m \u001b[0mtext_to_semantic\u001b[0m\u001b[0;34m(\u001b[0m\u001b[0mtext_prompt\u001b[0m\u001b[0;34m,\u001b[0m \u001b[0mhistory_prompt\u001b[0m\u001b[0;34m=\u001b[0m\u001b[0mhistory_prompt\u001b[0m\u001b[0;34m,\u001b[0m \u001b[0mtemp\u001b[0m\u001b[0;34m=\u001b[0m\u001b[0;36m0.7\u001b[0m\u001b[0;34m,\u001b[0m \u001b[0msilent\u001b[0m\u001b[0;34m=\u001b[0m\u001b[0;32mFalse\u001b[0m\u001b[0;34m,\u001b[0m\u001b[0;34m)\u001b[0m\u001b[0;34m\u001b[0m\u001b[0;34m\u001b[0m\u001b[0m\n\u001b[0m\u001b[1;32m      6\u001b[0m audio_tokens = semantic_to_audio_tokens(\n\u001b[1;32m      7\u001b[0m     \u001b[0msemantic_tokens\u001b[0m\u001b[0;34m,\u001b[0m \u001b[0mhistory_prompt\u001b[0m\u001b[0;34m=\u001b[0m\u001b[0mhistory_prompt\u001b[0m\u001b[0;34m,\u001b[0m \u001b[0mtemp\u001b[0m\u001b[0;34m=\u001b[0m\u001b[0;36m0.7\u001b[0m\u001b[0;34m,\u001b[0m \u001b[0msilent\u001b[0m\u001b[0;34m=\u001b[0m\u001b[0;32mFalse\u001b[0m\u001b[0;34m,\u001b[0m \u001b[0moutput_full\u001b[0m\u001b[0;34m=\u001b[0m\u001b[0;32mFalse\u001b[0m\u001b[0;34m,\u001b[0m\u001b[0;34m\u001b[0m\u001b[0;34m\u001b[0m\u001b[0m\n",
            "\u001b[0;32m/data3/tansongbin/anaconda/lib/python3.9/site-packages/bark/api.py\u001b[0m in \u001b[0;36mtext_to_semantic\u001b[0;34m(text, history_prompt, temp, silent)\u001b[0m\n\u001b[1;32m     23\u001b[0m         \u001b[0mnumpy\u001b[0m \u001b[0msemantic\u001b[0m \u001b[0marray\u001b[0m \u001b[0mto\u001b[0m \u001b[0mbe\u001b[0m \u001b[0mfed\u001b[0m \u001b[0minto\u001b[0m\u001b[0;31m \u001b[0m\u001b[0;31m`\u001b[0m\u001b[0msemantic_to_waveform\u001b[0m\u001b[0;31m`\u001b[0m\u001b[0;34m\u001b[0m\u001b[0;34m\u001b[0m\u001b[0m\n\u001b[1;32m     24\u001b[0m     \"\"\"\n\u001b[0;32m---> 25\u001b[0;31m     x_semantic = generate_text_semantic(\n\u001b[0m\u001b[1;32m     26\u001b[0m         \u001b[0mtext\u001b[0m\u001b[0;34m,\u001b[0m\u001b[0;34m\u001b[0m\u001b[0;34m\u001b[0m\u001b[0m\n\u001b[1;32m     27\u001b[0m         \u001b[0mhistory_prompt\u001b[0m\u001b[0;34m=\u001b[0m\u001b[0mhistory_prompt\u001b[0m\u001b[0;34m,\u001b[0m\u001b[0;34m\u001b[0m\u001b[0;34m\u001b[0m\u001b[0m\n",
            "\u001b[0;32m/data3/tansongbin/anaconda/lib/python3.9/site-packages/bark/generation.py\u001b[0m in \u001b[0;36mgenerate_text_semantic\u001b[0;34m(text, history_prompt, temp, top_k, top_p, silent, min_eos_p, max_gen_duration_s, allow_early_stop, use_kv_caching)\u001b[0m\n\u001b[1;32m    407\u001b[0m     \u001b[0;32mglobal\u001b[0m \u001b[0mmodels_devices\u001b[0m\u001b[0;34m\u001b[0m\u001b[0;34m\u001b[0m\u001b[0m\n\u001b[1;32m    408\u001b[0m     \u001b[0;32mif\u001b[0m \u001b[0;34m\"text\"\u001b[0m \u001b[0;32mnot\u001b[0m \u001b[0;32min\u001b[0m \u001b[0mmodels\u001b[0m\u001b[0;34m:\u001b[0m\u001b[0;34m\u001b[0m\u001b[0;34m\u001b[0m\u001b[0m\n\u001b[0;32m--> 409\u001b[0;31m         \u001b[0mpreload_models\u001b[0m\u001b[0;34m(\u001b[0m\u001b[0;34m)\u001b[0m\u001b[0;34m\u001b[0m\u001b[0;34m\u001b[0m\u001b[0m\n\u001b[0m\u001b[1;32m    410\u001b[0m     \u001b[0mmodel_container\u001b[0m \u001b[0;34m=\u001b[0m \u001b[0mmodels\u001b[0m\u001b[0;34m[\u001b[0m\u001b[0;34m\"text\"\u001b[0m\u001b[0;34m]\u001b[0m\u001b[0;34m\u001b[0m\u001b[0;34m\u001b[0m\u001b[0m\n\u001b[1;32m    411\u001b[0m     \u001b[0mmodel\u001b[0m \u001b[0;34m=\u001b[0m \u001b[0mmodel_container\u001b[0m\u001b[0;34m[\u001b[0m\u001b[0;34m\"model\"\u001b[0m\u001b[0;34m]\u001b[0m\u001b[0;34m\u001b[0m\u001b[0;34m\u001b[0m\u001b[0m\n",
            "\u001b[0;32m/data3/tansongbin/anaconda/lib/python3.9/site-packages/bark/generation.py\u001b[0m in \u001b[0;36mpreload_models\u001b[0;34m(text_use_gpu, text_use_small, coarse_use_gpu, coarse_use_small, fine_use_gpu, fine_use_small, codec_use_gpu, force_reload)\u001b[0m\n\u001b[1;32m    316\u001b[0m     ):\n\u001b[1;32m    317\u001b[0m         \u001b[0mlogger\u001b[0m\u001b[0;34m.\u001b[0m\u001b[0mwarning\u001b[0m\u001b[0;34m(\u001b[0m\u001b[0;34m\"No GPU being used. Careful, inference might be very slow!\"\u001b[0m\u001b[0;34m)\u001b[0m\u001b[0;34m\u001b[0m\u001b[0;34m\u001b[0m\u001b[0m\n\u001b[0;32m--> 318\u001b[0;31m     _ = load_model(\n\u001b[0m\u001b[1;32m    319\u001b[0m         \u001b[0mmodel_type\u001b[0m\u001b[0;34m=\u001b[0m\u001b[0;34m\"text\"\u001b[0m\u001b[0;34m,\u001b[0m \u001b[0muse_gpu\u001b[0m\u001b[0;34m=\u001b[0m\u001b[0mtext_use_gpu\u001b[0m\u001b[0;34m,\u001b[0m \u001b[0muse_small\u001b[0m\u001b[0;34m=\u001b[0m\u001b[0mtext_use_small\u001b[0m\u001b[0;34m,\u001b[0m \u001b[0mforce_reload\u001b[0m\u001b[0;34m=\u001b[0m\u001b[0mforce_reload\u001b[0m\u001b[0;34m\u001b[0m\u001b[0;34m\u001b[0m\u001b[0m\n\u001b[1;32m    320\u001b[0m     )\n",
            "\u001b[0;32m/data3/tansongbin/anaconda/lib/python3.9/site-packages/bark/generation.py\u001b[0m in \u001b[0;36mload_model\u001b[0;34m(use_gpu, use_small, force_reload, model_type)\u001b[0m\n\u001b[1;32m    273\u001b[0m         \u001b[0mckpt_path\u001b[0m \u001b[0;34m=\u001b[0m \u001b[0m_get_ckpt_path\u001b[0m\u001b[0;34m(\u001b[0m\u001b[0mmodel_type\u001b[0m\u001b[0;34m,\u001b[0m \u001b[0muse_small\u001b[0m\u001b[0;34m=\u001b[0m\u001b[0muse_small\u001b[0m\u001b[0;34m)\u001b[0m\u001b[0;34m\u001b[0m\u001b[0;34m\u001b[0m\u001b[0m\n\u001b[1;32m    274\u001b[0m         \u001b[0mclean_models\u001b[0m\u001b[0;34m(\u001b[0m\u001b[0mmodel_key\u001b[0m\u001b[0;34m=\u001b[0m\u001b[0mmodel_key\u001b[0m\u001b[0;34m)\u001b[0m\u001b[0;34m\u001b[0m\u001b[0;34m\u001b[0m\u001b[0m\n\u001b[0;32m--> 275\u001b[0;31m         \u001b[0mmodel\u001b[0m \u001b[0;34m=\u001b[0m \u001b[0m_load_model_f\u001b[0m\u001b[0;34m(\u001b[0m\u001b[0mckpt_path\u001b[0m\u001b[0;34m,\u001b[0m \u001b[0mdevice\u001b[0m\u001b[0;34m)\u001b[0m\u001b[0;34m\u001b[0m\u001b[0;34m\u001b[0m\u001b[0m\n\u001b[0m\u001b[1;32m    276\u001b[0m         \u001b[0mmodels\u001b[0m\u001b[0;34m[\u001b[0m\u001b[0mmodel_key\u001b[0m\u001b[0;34m]\u001b[0m \u001b[0;34m=\u001b[0m \u001b[0mmodel\u001b[0m\u001b[0;34m\u001b[0m\u001b[0;34m\u001b[0m\u001b[0m\n\u001b[1;32m    277\u001b[0m     \u001b[0;32mif\u001b[0m \u001b[0mmodel_type\u001b[0m \u001b[0;34m==\u001b[0m \u001b[0;34m\"text\"\u001b[0m\u001b[0;34m:\u001b[0m\u001b[0;34m\u001b[0m\u001b[0;34m\u001b[0m\u001b[0m\n",
            "\u001b[0;32m/data3/tansongbin/anaconda/lib/python3.9/site-packages/bark/generation.py\u001b[0m in \u001b[0;36m_load_model\u001b[0;34m(ckpt_path, device, use_small, model_type)\u001b[0m\n\u001b[1;32m    209\u001b[0m     \u001b[0;32mif\u001b[0m \u001b[0;32mnot\u001b[0m \u001b[0mos\u001b[0m\u001b[0;34m.\u001b[0m\u001b[0mpath\u001b[0m\u001b[0;34m.\u001b[0m\u001b[0mexists\u001b[0m\u001b[0;34m(\u001b[0m\u001b[0mckpt_path\u001b[0m\u001b[0;34m)\u001b[0m\u001b[0;34m:\u001b[0m\u001b[0;34m\u001b[0m\u001b[0;34m\u001b[0m\u001b[0m\n\u001b[1;32m    210\u001b[0m         \u001b[0mlogger\u001b[0m\u001b[0;34m.\u001b[0m\u001b[0minfo\u001b[0m\u001b[0;34m(\u001b[0m\u001b[0;34mf\"{model_type} model not found, downloading into `{CACHE_DIR}`.\"\u001b[0m\u001b[0;34m)\u001b[0m\u001b[0;34m\u001b[0m\u001b[0;34m\u001b[0m\u001b[0m\n\u001b[0;32m--> 211\u001b[0;31m         \u001b[0m_download\u001b[0m\u001b[0;34m(\u001b[0m\u001b[0mmodel_info\u001b[0m\u001b[0;34m[\u001b[0m\u001b[0;34m\"repo_id\"\u001b[0m\u001b[0;34m]\u001b[0m\u001b[0;34m,\u001b[0m \u001b[0mmodel_info\u001b[0m\u001b[0;34m[\u001b[0m\u001b[0;34m\"file_name\"\u001b[0m\u001b[0;34m]\u001b[0m\u001b[0;34m)\u001b[0m\u001b[0;34m\u001b[0m\u001b[0;34m\u001b[0m\u001b[0m\n\u001b[0m\u001b[1;32m    212\u001b[0m     \u001b[0mcheckpoint\u001b[0m \u001b[0;34m=\u001b[0m \u001b[0mtorch\u001b[0m\u001b[0;34m.\u001b[0m\u001b[0mload\u001b[0m\u001b[0;34m(\u001b[0m\u001b[0mckpt_path\u001b[0m\u001b[0;34m,\u001b[0m \u001b[0mmap_location\u001b[0m\u001b[0;34m=\u001b[0m\u001b[0mdevice\u001b[0m\u001b[0;34m)\u001b[0m\u001b[0;34m\u001b[0m\u001b[0;34m\u001b[0m\u001b[0m\n\u001b[1;32m    213\u001b[0m     \u001b[0;31m# this is a hack\u001b[0m\u001b[0;34m\u001b[0m\u001b[0;34m\u001b[0m\u001b[0m\n",
            "\u001b[0;32m/data3/tansongbin/anaconda/lib/python3.9/site-packages/bark/generation.py\u001b[0m in \u001b[0;36m_download\u001b[0;34m(from_hf_path, file_name)\u001b[0m\n\u001b[1;32m    149\u001b[0m \u001b[0;32mdef\u001b[0m \u001b[0m_download\u001b[0m\u001b[0;34m(\u001b[0m\u001b[0mfrom_hf_path\u001b[0m\u001b[0;34m,\u001b[0m \u001b[0mfile_name\u001b[0m\u001b[0;34m)\u001b[0m\u001b[0;34m:\u001b[0m\u001b[0;34m\u001b[0m\u001b[0;34m\u001b[0m\u001b[0m\n\u001b[1;32m    150\u001b[0m     \u001b[0mos\u001b[0m\u001b[0;34m.\u001b[0m\u001b[0mmakedirs\u001b[0m\u001b[0;34m(\u001b[0m\u001b[0mCACHE_DIR\u001b[0m\u001b[0;34m,\u001b[0m \u001b[0mexist_ok\u001b[0m\u001b[0;34m=\u001b[0m\u001b[0;32mTrue\u001b[0m\u001b[0;34m)\u001b[0m\u001b[0;34m\u001b[0m\u001b[0;34m\u001b[0m\u001b[0m\n\u001b[0;32m--> 151\u001b[0;31m     \u001b[0mhf_hub_download\u001b[0m\u001b[0;34m(\u001b[0m\u001b[0mrepo_id\u001b[0m\u001b[0;34m=\u001b[0m\u001b[0mfrom_hf_path\u001b[0m\u001b[0;34m,\u001b[0m \u001b[0mfilename\u001b[0m\u001b[0;34m=\u001b[0m\u001b[0mfile_name\u001b[0m\u001b[0;34m,\u001b[0m \u001b[0mlocal_dir\u001b[0m\u001b[0;34m=\u001b[0m\u001b[0mCACHE_DIR\u001b[0m\u001b[0;34m)\u001b[0m\u001b[0;34m\u001b[0m\u001b[0;34m\u001b[0m\u001b[0m\n\u001b[0m\u001b[1;32m    152\u001b[0m \u001b[0;34m\u001b[0m\u001b[0m\n\u001b[1;32m    153\u001b[0m \u001b[0;34m\u001b[0m\u001b[0m\n",
            "\u001b[0;32m/data3/tansongbin/anaconda/lib/python3.9/site-packages/huggingface_hub/utils/_validators.py\u001b[0m in \u001b[0;36m_inner_fn\u001b[0;34m(*args, **kwargs)\u001b[0m\n\u001b[1;32m    116\u001b[0m             \u001b[0mkwargs\u001b[0m \u001b[0;34m=\u001b[0m \u001b[0msmoothly_deprecate_use_auth_token\u001b[0m\u001b[0;34m(\u001b[0m\u001b[0mfn_name\u001b[0m\u001b[0;34m=\u001b[0m\u001b[0mfn\u001b[0m\u001b[0;34m.\u001b[0m\u001b[0m__name__\u001b[0m\u001b[0;34m,\u001b[0m \u001b[0mhas_token\u001b[0m\u001b[0;34m=\u001b[0m\u001b[0mhas_token\u001b[0m\u001b[0;34m,\u001b[0m \u001b[0mkwargs\u001b[0m\u001b[0;34m=\u001b[0m\u001b[0mkwargs\u001b[0m\u001b[0;34m)\u001b[0m\u001b[0;34m\u001b[0m\u001b[0;34m\u001b[0m\u001b[0m\n\u001b[1;32m    117\u001b[0m \u001b[0;34m\u001b[0m\u001b[0m\n\u001b[0;32m--> 118\u001b[0;31m         \u001b[0;32mreturn\u001b[0m \u001b[0mfn\u001b[0m\u001b[0;34m(\u001b[0m\u001b[0;34m*\u001b[0m\u001b[0margs\u001b[0m\u001b[0;34m,\u001b[0m \u001b[0;34m**\u001b[0m\u001b[0mkwargs\u001b[0m\u001b[0;34m)\u001b[0m\u001b[0;34m\u001b[0m\u001b[0;34m\u001b[0m\u001b[0m\n\u001b[0m\u001b[1;32m    119\u001b[0m \u001b[0;34m\u001b[0m\u001b[0m\n\u001b[1;32m    120\u001b[0m     \u001b[0;32mreturn\u001b[0m \u001b[0m_inner_fn\u001b[0m  \u001b[0;31m# type: ignore\u001b[0m\u001b[0;34m\u001b[0m\u001b[0;34m\u001b[0m\u001b[0m\n",
            "\u001b[0;32m/data3/tansongbin/anaconda/lib/python3.9/site-packages/huggingface_hub/file_download.py\u001b[0m in \u001b[0;36mhf_hub_download\u001b[0;34m(repo_id, filename, subfolder, repo_type, revision, library_name, library_version, cache_dir, local_dir, local_dir_use_symlinks, user_agent, force_download, force_filename, proxies, etag_timeout, resume_download, token, local_files_only, legacy_cache_layout, endpoint)\u001b[0m\n\u001b[1;32m   1455\u001b[0m                     \u001b[0m_check_disk_space\u001b[0m\u001b[0;34m(\u001b[0m\u001b[0mexpected_size\u001b[0m\u001b[0;34m,\u001b[0m \u001b[0mlocal_dir\u001b[0m\u001b[0;34m)\u001b[0m\u001b[0;34m\u001b[0m\u001b[0;34m\u001b[0m\u001b[0m\n\u001b[1;32m   1456\u001b[0m \u001b[0;34m\u001b[0m\u001b[0m\n\u001b[0;32m-> 1457\u001b[0;31m             http_get(\n\u001b[0m\u001b[1;32m   1458\u001b[0m                 \u001b[0murl_to_download\u001b[0m\u001b[0;34m,\u001b[0m\u001b[0;34m\u001b[0m\u001b[0;34m\u001b[0m\u001b[0m\n\u001b[1;32m   1459\u001b[0m                 \u001b[0mtemp_file\u001b[0m\u001b[0;34m,\u001b[0m\u001b[0;34m\u001b[0m\u001b[0;34m\u001b[0m\u001b[0m\n",
            "\u001b[0;32m/data3/tansongbin/anaconda/lib/python3.9/site-packages/huggingface_hub/file_download.py\u001b[0m in \u001b[0;36mhttp_get\u001b[0;34m(url, temp_file, proxies, resume_size, headers, expected_size, _nb_retries)\u001b[0m\n\u001b[1;32m    522\u001b[0m         \u001b[0mnew_resume_size\u001b[0m \u001b[0;34m=\u001b[0m \u001b[0mresume_size\u001b[0m\u001b[0;34m\u001b[0m\u001b[0;34m\u001b[0m\u001b[0m\n\u001b[1;32m    523\u001b[0m         \u001b[0;32mtry\u001b[0m\u001b[0;34m:\u001b[0m\u001b[0;34m\u001b[0m\u001b[0;34m\u001b[0m\u001b[0m\n\u001b[0;32m--> 524\u001b[0;31m             \u001b[0;32mfor\u001b[0m \u001b[0mchunk\u001b[0m \u001b[0;32min\u001b[0m \u001b[0mr\u001b[0m\u001b[0;34m.\u001b[0m\u001b[0miter_content\u001b[0m\u001b[0;34m(\u001b[0m\u001b[0mchunk_size\u001b[0m\u001b[0;34m=\u001b[0m\u001b[0mDOWNLOAD_CHUNK_SIZE\u001b[0m\u001b[0;34m)\u001b[0m\u001b[0;34m:\u001b[0m\u001b[0;34m\u001b[0m\u001b[0;34m\u001b[0m\u001b[0m\n\u001b[0m\u001b[1;32m    525\u001b[0m                 \u001b[0;32mif\u001b[0m \u001b[0mchunk\u001b[0m\u001b[0;34m:\u001b[0m  \u001b[0;31m# filter out keep-alive new chunks\u001b[0m\u001b[0;34m\u001b[0m\u001b[0;34m\u001b[0m\u001b[0m\n\u001b[1;32m    526\u001b[0m                     \u001b[0mprogress\u001b[0m\u001b[0;34m.\u001b[0m\u001b[0mupdate\u001b[0m\u001b[0;34m(\u001b[0m\u001b[0mlen\u001b[0m\u001b[0;34m(\u001b[0m\u001b[0mchunk\u001b[0m\u001b[0;34m)\u001b[0m\u001b[0;34m)\u001b[0m\u001b[0;34m\u001b[0m\u001b[0;34m\u001b[0m\u001b[0m\n",
            "\u001b[0;32m/data3/tansongbin/anaconda/lib/python3.9/site-packages/requests/models.py\u001b[0m in \u001b[0;36mgenerate\u001b[0;34m()\u001b[0m\n\u001b[1;32m    756\u001b[0m             \u001b[0;32mif\u001b[0m \u001b[0mhasattr\u001b[0m\u001b[0;34m(\u001b[0m\u001b[0mself\u001b[0m\u001b[0;34m.\u001b[0m\u001b[0mraw\u001b[0m\u001b[0;34m,\u001b[0m \u001b[0;34m'stream'\u001b[0m\u001b[0;34m)\u001b[0m\u001b[0;34m:\u001b[0m\u001b[0;34m\u001b[0m\u001b[0;34m\u001b[0m\u001b[0m\n\u001b[1;32m    757\u001b[0m                 \u001b[0;32mtry\u001b[0m\u001b[0;34m:\u001b[0m\u001b[0;34m\u001b[0m\u001b[0;34m\u001b[0m\u001b[0m\n\u001b[0;32m--> 758\u001b[0;31m                     \u001b[0;32mfor\u001b[0m \u001b[0mchunk\u001b[0m \u001b[0;32min\u001b[0m \u001b[0mself\u001b[0m\u001b[0;34m.\u001b[0m\u001b[0mraw\u001b[0m\u001b[0;34m.\u001b[0m\u001b[0mstream\u001b[0m\u001b[0;34m(\u001b[0m\u001b[0mchunk_size\u001b[0m\u001b[0;34m,\u001b[0m \u001b[0mdecode_content\u001b[0m\u001b[0;34m=\u001b[0m\u001b[0;32mTrue\u001b[0m\u001b[0;34m)\u001b[0m\u001b[0;34m:\u001b[0m\u001b[0;34m\u001b[0m\u001b[0;34m\u001b[0m\u001b[0m\n\u001b[0m\u001b[1;32m    759\u001b[0m                         \u001b[0;32myield\u001b[0m \u001b[0mchunk\u001b[0m\u001b[0;34m\u001b[0m\u001b[0;34m\u001b[0m\u001b[0m\n\u001b[1;32m    760\u001b[0m                 \u001b[0;32mexcept\u001b[0m \u001b[0mProtocolError\u001b[0m \u001b[0;32mas\u001b[0m \u001b[0me\u001b[0m\u001b[0;34m:\u001b[0m\u001b[0;34m\u001b[0m\u001b[0;34m\u001b[0m\u001b[0m\n",
            "\u001b[0;32m/data3/tansongbin/anaconda/lib/python3.9/site-packages/urllib3/response.py\u001b[0m in \u001b[0;36mstream\u001b[0;34m(self, amt, decode_content)\u001b[0m\n\u001b[1;32m    626\u001b[0m         \u001b[0;32melse\u001b[0m\u001b[0;34m:\u001b[0m\u001b[0;34m\u001b[0m\u001b[0;34m\u001b[0m\u001b[0m\n\u001b[1;32m    627\u001b[0m             \u001b[0;32mwhile\u001b[0m \u001b[0;32mnot\u001b[0m \u001b[0mis_fp_closed\u001b[0m\u001b[0;34m(\u001b[0m\u001b[0mself\u001b[0m\u001b[0;34m.\u001b[0m\u001b[0m_fp\u001b[0m\u001b[0;34m)\u001b[0m\u001b[0;34m:\u001b[0m\u001b[0;34m\u001b[0m\u001b[0;34m\u001b[0m\u001b[0m\n\u001b[0;32m--> 628\u001b[0;31m                 \u001b[0mdata\u001b[0m \u001b[0;34m=\u001b[0m \u001b[0mself\u001b[0m\u001b[0;34m.\u001b[0m\u001b[0mread\u001b[0m\u001b[0;34m(\u001b[0m\u001b[0mamt\u001b[0m\u001b[0;34m=\u001b[0m\u001b[0mamt\u001b[0m\u001b[0;34m,\u001b[0m \u001b[0mdecode_content\u001b[0m\u001b[0;34m=\u001b[0m\u001b[0mdecode_content\u001b[0m\u001b[0;34m)\u001b[0m\u001b[0;34m\u001b[0m\u001b[0;34m\u001b[0m\u001b[0m\n\u001b[0m\u001b[1;32m    629\u001b[0m \u001b[0;34m\u001b[0m\u001b[0m\n\u001b[1;32m    630\u001b[0m                 \u001b[0;32mif\u001b[0m \u001b[0mdata\u001b[0m\u001b[0;34m:\u001b[0m\u001b[0;34m\u001b[0m\u001b[0;34m\u001b[0m\u001b[0m\n",
            "\u001b[0;32m/data3/tansongbin/anaconda/lib/python3.9/site-packages/urllib3/response.py\u001b[0m in \u001b[0;36mread\u001b[0;34m(self, amt, decode_content, cache_content)\u001b[0m\n\u001b[1;32m    565\u001b[0m \u001b[0;34m\u001b[0m\u001b[0m\n\u001b[1;32m    566\u001b[0m         \u001b[0;32mwith\u001b[0m \u001b[0mself\u001b[0m\u001b[0;34m.\u001b[0m\u001b[0m_error_catcher\u001b[0m\u001b[0;34m(\u001b[0m\u001b[0;34m)\u001b[0m\u001b[0;34m:\u001b[0m\u001b[0;34m\u001b[0m\u001b[0;34m\u001b[0m\u001b[0m\n\u001b[0;32m--> 567\u001b[0;31m             \u001b[0mdata\u001b[0m \u001b[0;34m=\u001b[0m \u001b[0mself\u001b[0m\u001b[0;34m.\u001b[0m\u001b[0m_fp_read\u001b[0m\u001b[0;34m(\u001b[0m\u001b[0mamt\u001b[0m\u001b[0;34m)\u001b[0m \u001b[0;32mif\u001b[0m \u001b[0;32mnot\u001b[0m \u001b[0mfp_closed\u001b[0m \u001b[0;32melse\u001b[0m \u001b[0;34mb\"\"\u001b[0m\u001b[0;34m\u001b[0m\u001b[0;34m\u001b[0m\u001b[0m\n\u001b[0m\u001b[1;32m    568\u001b[0m             \u001b[0;32mif\u001b[0m \u001b[0mamt\u001b[0m \u001b[0;32mis\u001b[0m \u001b[0;32mNone\u001b[0m\u001b[0;34m:\u001b[0m\u001b[0;34m\u001b[0m\u001b[0;34m\u001b[0m\u001b[0m\n\u001b[1;32m    569\u001b[0m                 \u001b[0mflush_decoder\u001b[0m \u001b[0;34m=\u001b[0m \u001b[0;32mTrue\u001b[0m\u001b[0;34m\u001b[0m\u001b[0;34m\u001b[0m\u001b[0m\n",
            "\u001b[0;32m/data3/tansongbin/anaconda/lib/python3.9/site-packages/urllib3/response.py\u001b[0m in \u001b[0;36m_fp_read\u001b[0;34m(self, amt)\u001b[0m\n\u001b[1;32m    526\u001b[0m                 \u001b[0;32mif\u001b[0m \u001b[0;32mnot\u001b[0m \u001b[0mdata\u001b[0m\u001b[0;34m:\u001b[0m\u001b[0;34m\u001b[0m\u001b[0;34m\u001b[0m\u001b[0m\n\u001b[1;32m    527\u001b[0m                     \u001b[0;32mbreak\u001b[0m\u001b[0;34m\u001b[0m\u001b[0;34m\u001b[0m\u001b[0m\n\u001b[0;32m--> 528\u001b[0;31m                 \u001b[0mbuffer\u001b[0m\u001b[0;34m.\u001b[0m\u001b[0mwrite\u001b[0m\u001b[0;34m(\u001b[0m\u001b[0mdata\u001b[0m\u001b[0;34m)\u001b[0m\u001b[0;34m\u001b[0m\u001b[0;34m\u001b[0m\u001b[0m\n\u001b[0m\u001b[1;32m    529\u001b[0m                 \u001b[0;32mdel\u001b[0m \u001b[0mdata\u001b[0m  \u001b[0;31m# to reduce peak memory usage by `max_chunk_amt`.\u001b[0m\u001b[0;34m\u001b[0m\u001b[0;34m\u001b[0m\u001b[0m\n\u001b[1;32m    530\u001b[0m             \u001b[0;32mreturn\u001b[0m \u001b[0mbuffer\u001b[0m\u001b[0;34m.\u001b[0m\u001b[0mgetvalue\u001b[0m\u001b[0;34m(\u001b[0m\u001b[0;34m)\u001b[0m\u001b[0;34m\u001b[0m\u001b[0;34m\u001b[0m\u001b[0m\n",
            "\u001b[0;31mKeyboardInterrupt\u001b[0m: "
          ]
        }
      ],
      "source": [
        "from bark import text_to_semantic\n",
        "\n",
        "history_prompt = None\n",
        "text_prompt = \"So, you've heard about neural vocoding? [laughs] We've been messing around with this new model called Vocos.\"\n",
        "semantic_tokens = text_to_semantic(text_prompt, history_prompt=history_prompt, temp=0.7, silent=False,)\n",
        "audio_tokens = semantic_to_audio_tokens(\n",
        "    semantic_tokens, history_prompt=history_prompt, temp=0.7, silent=False, output_full=False,\n",
        ")"
      ]
    },
    {
      "cell_type": "markdown",
      "metadata": {
        "id": "UYMzI8svTNqI"
      },
      "source": [
        "Reconstruct audio waveform with EnCodec:"
      ]
    },
    {
      "cell_type": "code",
      "execution_count": null,
      "metadata": {
        "id": "PzdytlXFTNQ2"
      },
      "outputs": [],
      "source": [
        "from bark.generation import codec_decode\n",
        "from IPython.display import Audio\n",
        "\n",
        "encodec_output = codec_decode(audio_tokens)\n",
        "\n",
        "import torchaudio\n",
        "# Upsample to 44100 Hz for better reproduction on audio hardware\n",
        "encodec_output = torchaudio.functional.resample(torch.from_numpy(encodec_output), orig_freq=24000, new_freq=44100)\n",
        "Audio(encodec_output, rate=44100)"
      ]
    },
    {
      "cell_type": "markdown",
      "metadata": {
        "id": "BhUxBuP9TTTw"
      },
      "source": [
        "Reconstruct with Vocos:"
      ]
    },
    {
      "cell_type": "code",
      "execution_count": null,
      "metadata": {
        "id": "8hzSWQ5-nBlV"
      },
      "outputs": [],
      "source": [
        "audio_tokens_torch = torch.from_numpy(audio_tokens).to(device)\n",
        "features = vocos.codes_to_features(audio_tokens_torch)\n",
        "vocos_output = vocos.decode(features, bandwidth_id=torch.tensor([2], device=device))  # 6 kbps\n",
        "# Upsample to 44100 Hz for better reproduction on audio hardware\n",
        "vocos_output = torchaudio.functional.resample(vocos_output, orig_freq=24000, new_freq=44100).cpu()\n",
        "Audio(vocos_output.numpy(), rate=44100)"
      ]
    },
    {
      "cell_type": "markdown",
      "metadata": {
        "id": "RjVXQIZRb1Re"
      },
      "source": [
        "Optionally save to mp3 files:"
      ]
    },
    {
      "cell_type": "code",
      "execution_count": null,
      "metadata": {
        "id": "PLFXpjUKb3WX"
      },
      "outputs": [],
      "source": [
        "torchaudio.save(\"encodec.mp3\", encodec_output[None, :], 44100, compression=128)\n",
        "torchaudio.save(\"vocos.mp3\", vocos_output, 44100, compression=128)"
      ]
    }
  ],
  "metadata": {
    "accelerator": "GPU",
    "colab": {
      "authorship_tag": "ABX9TyMC53IsYoVJIVijVzw3ADvX",
      "gpuType": "T4",
      "include_colab_link": true,
      "private_outputs": true,
      "provenance": []
    },
    "kernelspec": {
      "display_name": "Python 3",
      "name": "python3"
    },
    "language_info": {
      "codemirror_mode": {
        "name": "ipython",
        "version": 3
      },
      "file_extension": ".py",
      "mimetype": "text/x-python",
      "name": "python",
      "nbconvert_exporter": "python",
      "pygments_lexer": "ipython3",
      "version": "3.9.7"
    }
  },
  "nbformat": 4,
  "nbformat_minor": 0
}
