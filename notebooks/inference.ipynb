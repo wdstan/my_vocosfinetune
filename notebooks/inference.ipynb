{
 "cells": [
  {
   "cell_type": "code",
   "execution_count": null,
   "id": "d7bd105a",
   "metadata": {},
   "outputs": [],
   "source": []
  },
  {
   "cell_type": "code",
   "execution_count": 1,
   "id": "ae43220a",
   "metadata": {},
   "outputs": [
    {
     "name": "stderr",
     "output_type": "stream",
     "text": [
      "/data3/tansongbin/anaconda/envs/bwe_smac/lib/python3.9/site-packages/tqdm/auto.py:21: TqdmWarning: IProgress not found. Please update jupyter and ipywidgets. See https://ipywidgets.readthedocs.io/en/stable/user_install.html\n",
      "  from .autonotebook import tqdm as notebook_tqdm\n"
     ]
    }
   ],
   "source": [
    "from vocos import Vocos\n",
    "import torch\n",
    "import librosa\n",
    "import soundfile as sf\n",
    "import os \n",
    "import numpy as np\n",
    "import torchaudio\n",
    "\n",
    "def file_pathname(target_dir, target_suffix=\".wav\"):\n",
    "    find_res = []\n",
    "    target_suffix_dot = target_suffix\n",
    "    walk_generator = os.walk(target_dir)\n",
    "    for root_path, dirs, files in walk_generator:\n",
    "        if len(files) < 1:\n",
    "            continue\n",
    "        for file in files:\n",
    "            file_name, suffix_name = os.path.splitext(file)\n",
    "            if suffix_name == target_suffix_dot:\n",
    "                find_res.append((os.path.normpath(root_path), file_name))\n",
    "    return find_res\n",
    "\n",
    "def check_path(path1):\n",
    "    if type(path1) == list:\n",
    "        flag = True\n",
    "        for p in path1:\n",
    "            flag_tmp = check_path(p)\n",
    "            flag = (flag and flag_tmp)\n",
    "        return flag\n",
    "    flag = os.path.isdir(path1)\n",
    "    if not flag:\n",
    "        os.makedirs(path1)\n",
    "        print(path1+' has been created')\n",
    "    return flag\n"
   ]
  },
  {
   "cell_type": "code",
   "execution_count": 2,
   "id": "3440e5f9",
   "metadata": {},
   "outputs": [],
   "source": [
    "from vocos.experiment import VocosExp\n"
   ]
  },
  {
   "cell_type": "code",
   "execution_count": 28,
   "id": "d12cc78d",
   "metadata": {},
   "outputs": [
    {
     "name": "stdout",
     "output_type": "stream",
     "text": [
      "cuda\n"
     ]
    },
    {
     "data": {
      "text/plain": [
       "_IncompatibleKeys(missing_keys=[], unexpected_keys=['multiperioddisc.discriminators.0.convs.0.bias', 'multiperioddisc.discriminators.0.convs.0.weight_g', 'multiperioddisc.discriminators.0.convs.0.weight_v', 'multiperioddisc.discriminators.0.convs.1.bias', 'multiperioddisc.discriminators.0.convs.1.weight_g', 'multiperioddisc.discriminators.0.convs.1.weight_v', 'multiperioddisc.discriminators.0.convs.2.bias', 'multiperioddisc.discriminators.0.convs.2.weight_g', 'multiperioddisc.discriminators.0.convs.2.weight_v', 'multiperioddisc.discriminators.0.convs.3.bias', 'multiperioddisc.discriminators.0.convs.3.weight_g', 'multiperioddisc.discriminators.0.convs.3.weight_v', 'multiperioddisc.discriminators.0.convs.4.bias', 'multiperioddisc.discriminators.0.convs.4.weight_g', 'multiperioddisc.discriminators.0.convs.4.weight_v', 'multiperioddisc.discriminators.0.conv_post.bias', 'multiperioddisc.discriminators.0.conv_post.weight_g', 'multiperioddisc.discriminators.0.conv_post.weight_v', 'multiperioddisc.discriminators.1.convs.0.bias', 'multiperioddisc.discriminators.1.convs.0.weight_g', 'multiperioddisc.discriminators.1.convs.0.weight_v', 'multiperioddisc.discriminators.1.convs.1.bias', 'multiperioddisc.discriminators.1.convs.1.weight_g', 'multiperioddisc.discriminators.1.convs.1.weight_v', 'multiperioddisc.discriminators.1.convs.2.bias', 'multiperioddisc.discriminators.1.convs.2.weight_g', 'multiperioddisc.discriminators.1.convs.2.weight_v', 'multiperioddisc.discriminators.1.convs.3.bias', 'multiperioddisc.discriminators.1.convs.3.weight_g', 'multiperioddisc.discriminators.1.convs.3.weight_v', 'multiperioddisc.discriminators.1.convs.4.bias', 'multiperioddisc.discriminators.1.convs.4.weight_g', 'multiperioddisc.discriminators.1.convs.4.weight_v', 'multiperioddisc.discriminators.1.conv_post.bias', 'multiperioddisc.discriminators.1.conv_post.weight_g', 'multiperioddisc.discriminators.1.conv_post.weight_v', 'multiperioddisc.discriminators.2.convs.0.bias', 'multiperioddisc.discriminators.2.convs.0.weight_g', 'multiperioddisc.discriminators.2.convs.0.weight_v', 'multiperioddisc.discriminators.2.convs.1.bias', 'multiperioddisc.discriminators.2.convs.1.weight_g', 'multiperioddisc.discriminators.2.convs.1.weight_v', 'multiperioddisc.discriminators.2.convs.2.bias', 'multiperioddisc.discriminators.2.convs.2.weight_g', 'multiperioddisc.discriminators.2.convs.2.weight_v', 'multiperioddisc.discriminators.2.convs.3.bias', 'multiperioddisc.discriminators.2.convs.3.weight_g', 'multiperioddisc.discriminators.2.convs.3.weight_v', 'multiperioddisc.discriminators.2.convs.4.bias', 'multiperioddisc.discriminators.2.convs.4.weight_g', 'multiperioddisc.discriminators.2.convs.4.weight_v', 'multiperioddisc.discriminators.2.conv_post.bias', 'multiperioddisc.discriminators.2.conv_post.weight_g', 'multiperioddisc.discriminators.2.conv_post.weight_v', 'multiperioddisc.discriminators.3.convs.0.bias', 'multiperioddisc.discriminators.3.convs.0.weight_g', 'multiperioddisc.discriminators.3.convs.0.weight_v', 'multiperioddisc.discriminators.3.convs.1.bias', 'multiperioddisc.discriminators.3.convs.1.weight_g', 'multiperioddisc.discriminators.3.convs.1.weight_v', 'multiperioddisc.discriminators.3.convs.2.bias', 'multiperioddisc.discriminators.3.convs.2.weight_g', 'multiperioddisc.discriminators.3.convs.2.weight_v', 'multiperioddisc.discriminators.3.convs.3.bias', 'multiperioddisc.discriminators.3.convs.3.weight_g', 'multiperioddisc.discriminators.3.convs.3.weight_v', 'multiperioddisc.discriminators.3.convs.4.bias', 'multiperioddisc.discriminators.3.convs.4.weight_g', 'multiperioddisc.discriminators.3.convs.4.weight_v', 'multiperioddisc.discriminators.3.conv_post.bias', 'multiperioddisc.discriminators.3.conv_post.weight_g', 'multiperioddisc.discriminators.3.conv_post.weight_v', 'multiperioddisc.discriminators.4.convs.0.bias', 'multiperioddisc.discriminators.4.convs.0.weight_g', 'multiperioddisc.discriminators.4.convs.0.weight_v', 'multiperioddisc.discriminators.4.convs.1.bias', 'multiperioddisc.discriminators.4.convs.1.weight_g', 'multiperioddisc.discriminators.4.convs.1.weight_v', 'multiperioddisc.discriminators.4.convs.2.bias', 'multiperioddisc.discriminators.4.convs.2.weight_g', 'multiperioddisc.discriminators.4.convs.2.weight_v', 'multiperioddisc.discriminators.4.convs.3.bias', 'multiperioddisc.discriminators.4.convs.3.weight_g', 'multiperioddisc.discriminators.4.convs.3.weight_v', 'multiperioddisc.discriminators.4.convs.4.bias', 'multiperioddisc.discriminators.4.convs.4.weight_g', 'multiperioddisc.discriminators.4.convs.4.weight_v', 'multiperioddisc.discriminators.4.conv_post.bias', 'multiperioddisc.discriminators.4.conv_post.weight_g', 'multiperioddisc.discriminators.4.conv_post.weight_v', 'multiresddisc.discriminators.0.spec_fn.window', 'multiresddisc.discriminators.0.band_convs.0.0.bias', 'multiresddisc.discriminators.0.band_convs.0.0.weight_g', 'multiresddisc.discriminators.0.band_convs.0.0.weight_v', 'multiresddisc.discriminators.0.band_convs.0.1.bias', 'multiresddisc.discriminators.0.band_convs.0.1.weight_g', 'multiresddisc.discriminators.0.band_convs.0.1.weight_v', 'multiresddisc.discriminators.0.band_convs.0.2.bias', 'multiresddisc.discriminators.0.band_convs.0.2.weight_g', 'multiresddisc.discriminators.0.band_convs.0.2.weight_v', 'multiresddisc.discriminators.0.band_convs.0.3.bias', 'multiresddisc.discriminators.0.band_convs.0.3.weight_g', 'multiresddisc.discriminators.0.band_convs.0.3.weight_v', 'multiresddisc.discriminators.0.band_convs.0.4.bias', 'multiresddisc.discriminators.0.band_convs.0.4.weight_g', 'multiresddisc.discriminators.0.band_convs.0.4.weight_v', 'multiresddisc.discriminators.0.band_convs.1.0.bias', 'multiresddisc.discriminators.0.band_convs.1.0.weight_g', 'multiresddisc.discriminators.0.band_convs.1.0.weight_v', 'multiresddisc.discriminators.0.band_convs.1.1.bias', 'multiresddisc.discriminators.0.band_convs.1.1.weight_g', 'multiresddisc.discriminators.0.band_convs.1.1.weight_v', 'multiresddisc.discriminators.0.band_convs.1.2.bias', 'multiresddisc.discriminators.0.band_convs.1.2.weight_g', 'multiresddisc.discriminators.0.band_convs.1.2.weight_v', 'multiresddisc.discriminators.0.band_convs.1.3.bias', 'multiresddisc.discriminators.0.band_convs.1.3.weight_g', 'multiresddisc.discriminators.0.band_convs.1.3.weight_v', 'multiresddisc.discriminators.0.band_convs.1.4.bias', 'multiresddisc.discriminators.0.band_convs.1.4.weight_g', 'multiresddisc.discriminators.0.band_convs.1.4.weight_v', 'multiresddisc.discriminators.0.band_convs.2.0.bias', 'multiresddisc.discriminators.0.band_convs.2.0.weight_g', 'multiresddisc.discriminators.0.band_convs.2.0.weight_v', 'multiresddisc.discriminators.0.band_convs.2.1.bias', 'multiresddisc.discriminators.0.band_convs.2.1.weight_g', 'multiresddisc.discriminators.0.band_convs.2.1.weight_v', 'multiresddisc.discriminators.0.band_convs.2.2.bias', 'multiresddisc.discriminators.0.band_convs.2.2.weight_g', 'multiresddisc.discriminators.0.band_convs.2.2.weight_v', 'multiresddisc.discriminators.0.band_convs.2.3.bias', 'multiresddisc.discriminators.0.band_convs.2.3.weight_g', 'multiresddisc.discriminators.0.band_convs.2.3.weight_v', 'multiresddisc.discriminators.0.band_convs.2.4.bias', 'multiresddisc.discriminators.0.band_convs.2.4.weight_g', 'multiresddisc.discriminators.0.band_convs.2.4.weight_v', 'multiresddisc.discriminators.0.band_convs.3.0.bias', 'multiresddisc.discriminators.0.band_convs.3.0.weight_g', 'multiresddisc.discriminators.0.band_convs.3.0.weight_v', 'multiresddisc.discriminators.0.band_convs.3.1.bias', 'multiresddisc.discriminators.0.band_convs.3.1.weight_g', 'multiresddisc.discriminators.0.band_convs.3.1.weight_v', 'multiresddisc.discriminators.0.band_convs.3.2.bias', 'multiresddisc.discriminators.0.band_convs.3.2.weight_g', 'multiresddisc.discriminators.0.band_convs.3.2.weight_v', 'multiresddisc.discriminators.0.band_convs.3.3.bias', 'multiresddisc.discriminators.0.band_convs.3.3.weight_g', 'multiresddisc.discriminators.0.band_convs.3.3.weight_v', 'multiresddisc.discriminators.0.band_convs.3.4.bias', 'multiresddisc.discriminators.0.band_convs.3.4.weight_g', 'multiresddisc.discriminators.0.band_convs.3.4.weight_v', 'multiresddisc.discriminators.0.band_convs.4.0.bias', 'multiresddisc.discriminators.0.band_convs.4.0.weight_g', 'multiresddisc.discriminators.0.band_convs.4.0.weight_v', 'multiresddisc.discriminators.0.band_convs.4.1.bias', 'multiresddisc.discriminators.0.band_convs.4.1.weight_g', 'multiresddisc.discriminators.0.band_convs.4.1.weight_v', 'multiresddisc.discriminators.0.band_convs.4.2.bias', 'multiresddisc.discriminators.0.band_convs.4.2.weight_g', 'multiresddisc.discriminators.0.band_convs.4.2.weight_v', 'multiresddisc.discriminators.0.band_convs.4.3.bias', 'multiresddisc.discriminators.0.band_convs.4.3.weight_g', 'multiresddisc.discriminators.0.band_convs.4.3.weight_v', 'multiresddisc.discriminators.0.band_convs.4.4.bias', 'multiresddisc.discriminators.0.band_convs.4.4.weight_g', 'multiresddisc.discriminators.0.band_convs.4.4.weight_v', 'multiresddisc.discriminators.0.conv_post.bias', 'multiresddisc.discriminators.0.conv_post.weight_g', 'multiresddisc.discriminators.0.conv_post.weight_v', 'multiresddisc.discriminators.1.spec_fn.window', 'multiresddisc.discriminators.1.band_convs.0.0.bias', 'multiresddisc.discriminators.1.band_convs.0.0.weight_g', 'multiresddisc.discriminators.1.band_convs.0.0.weight_v', 'multiresddisc.discriminators.1.band_convs.0.1.bias', 'multiresddisc.discriminators.1.band_convs.0.1.weight_g', 'multiresddisc.discriminators.1.band_convs.0.1.weight_v', 'multiresddisc.discriminators.1.band_convs.0.2.bias', 'multiresddisc.discriminators.1.band_convs.0.2.weight_g', 'multiresddisc.discriminators.1.band_convs.0.2.weight_v', 'multiresddisc.discriminators.1.band_convs.0.3.bias', 'multiresddisc.discriminators.1.band_convs.0.3.weight_g', 'multiresddisc.discriminators.1.band_convs.0.3.weight_v', 'multiresddisc.discriminators.1.band_convs.0.4.bias', 'multiresddisc.discriminators.1.band_convs.0.4.weight_g', 'multiresddisc.discriminators.1.band_convs.0.4.weight_v', 'multiresddisc.discriminators.1.band_convs.1.0.bias', 'multiresddisc.discriminators.1.band_convs.1.0.weight_g', 'multiresddisc.discriminators.1.band_convs.1.0.weight_v', 'multiresddisc.discriminators.1.band_convs.1.1.bias', 'multiresddisc.discriminators.1.band_convs.1.1.weight_g', 'multiresddisc.discriminators.1.band_convs.1.1.weight_v', 'multiresddisc.discriminators.1.band_convs.1.2.bias', 'multiresddisc.discriminators.1.band_convs.1.2.weight_g', 'multiresddisc.discriminators.1.band_convs.1.2.weight_v', 'multiresddisc.discriminators.1.band_convs.1.3.bias', 'multiresddisc.discriminators.1.band_convs.1.3.weight_g', 'multiresddisc.discriminators.1.band_convs.1.3.weight_v', 'multiresddisc.discriminators.1.band_convs.1.4.bias', 'multiresddisc.discriminators.1.band_convs.1.4.weight_g', 'multiresddisc.discriminators.1.band_convs.1.4.weight_v', 'multiresddisc.discriminators.1.band_convs.2.0.bias', 'multiresddisc.discriminators.1.band_convs.2.0.weight_g', 'multiresddisc.discriminators.1.band_convs.2.0.weight_v', 'multiresddisc.discriminators.1.band_convs.2.1.bias', 'multiresddisc.discriminators.1.band_convs.2.1.weight_g', 'multiresddisc.discriminators.1.band_convs.2.1.weight_v', 'multiresddisc.discriminators.1.band_convs.2.2.bias', 'multiresddisc.discriminators.1.band_convs.2.2.weight_g', 'multiresddisc.discriminators.1.band_convs.2.2.weight_v', 'multiresddisc.discriminators.1.band_convs.2.3.bias', 'multiresddisc.discriminators.1.band_convs.2.3.weight_g', 'multiresddisc.discriminators.1.band_convs.2.3.weight_v', 'multiresddisc.discriminators.1.band_convs.2.4.bias', 'multiresddisc.discriminators.1.band_convs.2.4.weight_g', 'multiresddisc.discriminators.1.band_convs.2.4.weight_v', 'multiresddisc.discriminators.1.band_convs.3.0.bias', 'multiresddisc.discriminators.1.band_convs.3.0.weight_g', 'multiresddisc.discriminators.1.band_convs.3.0.weight_v', 'multiresddisc.discriminators.1.band_convs.3.1.bias', 'multiresddisc.discriminators.1.band_convs.3.1.weight_g', 'multiresddisc.discriminators.1.band_convs.3.1.weight_v', 'multiresddisc.discriminators.1.band_convs.3.2.bias', 'multiresddisc.discriminators.1.band_convs.3.2.weight_g', 'multiresddisc.discriminators.1.band_convs.3.2.weight_v', 'multiresddisc.discriminators.1.band_convs.3.3.bias', 'multiresddisc.discriminators.1.band_convs.3.3.weight_g', 'multiresddisc.discriminators.1.band_convs.3.3.weight_v', 'multiresddisc.discriminators.1.band_convs.3.4.bias', 'multiresddisc.discriminators.1.band_convs.3.4.weight_g', 'multiresddisc.discriminators.1.band_convs.3.4.weight_v', 'multiresddisc.discriminators.1.band_convs.4.0.bias', 'multiresddisc.discriminators.1.band_convs.4.0.weight_g', 'multiresddisc.discriminators.1.band_convs.4.0.weight_v', 'multiresddisc.discriminators.1.band_convs.4.1.bias', 'multiresddisc.discriminators.1.band_convs.4.1.weight_g', 'multiresddisc.discriminators.1.band_convs.4.1.weight_v', 'multiresddisc.discriminators.1.band_convs.4.2.bias', 'multiresddisc.discriminators.1.band_convs.4.2.weight_g', 'multiresddisc.discriminators.1.band_convs.4.2.weight_v', 'multiresddisc.discriminators.1.band_convs.4.3.bias', 'multiresddisc.discriminators.1.band_convs.4.3.weight_g', 'multiresddisc.discriminators.1.band_convs.4.3.weight_v', 'multiresddisc.discriminators.1.band_convs.4.4.bias', 'multiresddisc.discriminators.1.band_convs.4.4.weight_g', 'multiresddisc.discriminators.1.band_convs.4.4.weight_v', 'multiresddisc.discriminators.1.conv_post.bias', 'multiresddisc.discriminators.1.conv_post.weight_g', 'multiresddisc.discriminators.1.conv_post.weight_v', 'multiresddisc.discriminators.2.spec_fn.window', 'multiresddisc.discriminators.2.band_convs.0.0.bias', 'multiresddisc.discriminators.2.band_convs.0.0.weight_g', 'multiresddisc.discriminators.2.band_convs.0.0.weight_v', 'multiresddisc.discriminators.2.band_convs.0.1.bias', 'multiresddisc.discriminators.2.band_convs.0.1.weight_g', 'multiresddisc.discriminators.2.band_convs.0.1.weight_v', 'multiresddisc.discriminators.2.band_convs.0.2.bias', 'multiresddisc.discriminators.2.band_convs.0.2.weight_g', 'multiresddisc.discriminators.2.band_convs.0.2.weight_v', 'multiresddisc.discriminators.2.band_convs.0.3.bias', 'multiresddisc.discriminators.2.band_convs.0.3.weight_g', 'multiresddisc.discriminators.2.band_convs.0.3.weight_v', 'multiresddisc.discriminators.2.band_convs.0.4.bias', 'multiresddisc.discriminators.2.band_convs.0.4.weight_g', 'multiresddisc.discriminators.2.band_convs.0.4.weight_v', 'multiresddisc.discriminators.2.band_convs.1.0.bias', 'multiresddisc.discriminators.2.band_convs.1.0.weight_g', 'multiresddisc.discriminators.2.band_convs.1.0.weight_v', 'multiresddisc.discriminators.2.band_convs.1.1.bias', 'multiresddisc.discriminators.2.band_convs.1.1.weight_g', 'multiresddisc.discriminators.2.band_convs.1.1.weight_v', 'multiresddisc.discriminators.2.band_convs.1.2.bias', 'multiresddisc.discriminators.2.band_convs.1.2.weight_g', 'multiresddisc.discriminators.2.band_convs.1.2.weight_v', 'multiresddisc.discriminators.2.band_convs.1.3.bias', 'multiresddisc.discriminators.2.band_convs.1.3.weight_g', 'multiresddisc.discriminators.2.band_convs.1.3.weight_v', 'multiresddisc.discriminators.2.band_convs.1.4.bias', 'multiresddisc.discriminators.2.band_convs.1.4.weight_g', 'multiresddisc.discriminators.2.band_convs.1.4.weight_v', 'multiresddisc.discriminators.2.band_convs.2.0.bias', 'multiresddisc.discriminators.2.band_convs.2.0.weight_g', 'multiresddisc.discriminators.2.band_convs.2.0.weight_v', 'multiresddisc.discriminators.2.band_convs.2.1.bias', 'multiresddisc.discriminators.2.band_convs.2.1.weight_g', 'multiresddisc.discriminators.2.band_convs.2.1.weight_v', 'multiresddisc.discriminators.2.band_convs.2.2.bias', 'multiresddisc.discriminators.2.band_convs.2.2.weight_g', 'multiresddisc.discriminators.2.band_convs.2.2.weight_v', 'multiresddisc.discriminators.2.band_convs.2.3.bias', 'multiresddisc.discriminators.2.band_convs.2.3.weight_g', 'multiresddisc.discriminators.2.band_convs.2.3.weight_v', 'multiresddisc.discriminators.2.band_convs.2.4.bias', 'multiresddisc.discriminators.2.band_convs.2.4.weight_g', 'multiresddisc.discriminators.2.band_convs.2.4.weight_v', 'multiresddisc.discriminators.2.band_convs.3.0.bias', 'multiresddisc.discriminators.2.band_convs.3.0.weight_g', 'multiresddisc.discriminators.2.band_convs.3.0.weight_v', 'multiresddisc.discriminators.2.band_convs.3.1.bias', 'multiresddisc.discriminators.2.band_convs.3.1.weight_g', 'multiresddisc.discriminators.2.band_convs.3.1.weight_v', 'multiresddisc.discriminators.2.band_convs.3.2.bias', 'multiresddisc.discriminators.2.band_convs.3.2.weight_g', 'multiresddisc.discriminators.2.band_convs.3.2.weight_v', 'multiresddisc.discriminators.2.band_convs.3.3.bias', 'multiresddisc.discriminators.2.band_convs.3.3.weight_g', 'multiresddisc.discriminators.2.band_convs.3.3.weight_v', 'multiresddisc.discriminators.2.band_convs.3.4.bias', 'multiresddisc.discriminators.2.band_convs.3.4.weight_g', 'multiresddisc.discriminators.2.band_convs.3.4.weight_v', 'multiresddisc.discriminators.2.band_convs.4.0.bias', 'multiresddisc.discriminators.2.band_convs.4.0.weight_g', 'multiresddisc.discriminators.2.band_convs.4.0.weight_v', 'multiresddisc.discriminators.2.band_convs.4.1.bias', 'multiresddisc.discriminators.2.band_convs.4.1.weight_g', 'multiresddisc.discriminators.2.band_convs.4.1.weight_v', 'multiresddisc.discriminators.2.band_convs.4.2.bias', 'multiresddisc.discriminators.2.band_convs.4.2.weight_g', 'multiresddisc.discriminators.2.band_convs.4.2.weight_v', 'multiresddisc.discriminators.2.band_convs.4.3.bias', 'multiresddisc.discriminators.2.band_convs.4.3.weight_g', 'multiresddisc.discriminators.2.band_convs.4.3.weight_v', 'multiresddisc.discriminators.2.band_convs.4.4.bias', 'multiresddisc.discriminators.2.band_convs.4.4.weight_g', 'multiresddisc.discriminators.2.band_convs.4.4.weight_v', 'multiresddisc.discriminators.2.conv_post.bias', 'multiresddisc.discriminators.2.conv_post.weight_g', 'multiresddisc.discriminators.2.conv_post.weight_v', 'melspec_loss.mel_spec.spectrogram.window', 'melspec_loss.mel_spec.mel_scale.fb'])"
      ]
     },
     "execution_count": 28,
     "metadata": {},
     "output_type": "execute_result"
    }
   ],
   "source": [
    "device = torch.device(\"cuda\" if torch.cuda.is_available() else \"cpu\")\n",
    "# device = 'cpu'\n",
    "print(device)\n",
    "vocos = Vocos.from_pretrained(\"charactr/vocos-mel-24khz\").to(device)\n",
    "# vocos=Vocos.from_hparams('/data3/tansongbin/vocoder_projects/vocos/logs/lightning_logs/version_11/config.yaml')\n"
   ]
  },
  {
   "cell_type": "code",
   "execution_count": null,
   "id": "1ce11537",
   "metadata": {},
   "outputs": [],
   "source": []
  },
  {
   "cell_type": "code",
   "execution_count": 15,
   "id": "db184a7e",
   "metadata": {},
   "outputs": [
    {
     "data": {
      "text/plain": [
       "odict_keys(['feature_extractor.mel_spec.spectrogram.window', 'feature_extractor.mel_spec.mel_scale.fb', 'backbone.embed.weight', 'backbone.embed.bias', 'backbone.norm.weight', 'backbone.norm.bias', 'backbone.convnext.0.gamma', 'backbone.convnext.0.dwconv.weight', 'backbone.convnext.0.dwconv.bias', 'backbone.convnext.0.norm.weight', 'backbone.convnext.0.norm.bias', 'backbone.convnext.0.pwconv1.weight', 'backbone.convnext.0.pwconv1.bias', 'backbone.convnext.0.pwconv2.weight', 'backbone.convnext.0.pwconv2.bias', 'backbone.convnext.1.gamma', 'backbone.convnext.1.dwconv.weight', 'backbone.convnext.1.dwconv.bias', 'backbone.convnext.1.norm.weight', 'backbone.convnext.1.norm.bias', 'backbone.convnext.1.pwconv1.weight', 'backbone.convnext.1.pwconv1.bias', 'backbone.convnext.1.pwconv2.weight', 'backbone.convnext.1.pwconv2.bias', 'backbone.convnext.2.gamma', 'backbone.convnext.2.dwconv.weight', 'backbone.convnext.2.dwconv.bias', 'backbone.convnext.2.norm.weight', 'backbone.convnext.2.norm.bias', 'backbone.convnext.2.pwconv1.weight', 'backbone.convnext.2.pwconv1.bias', 'backbone.convnext.2.pwconv2.weight', 'backbone.convnext.2.pwconv2.bias', 'backbone.convnext.3.gamma', 'backbone.convnext.3.dwconv.weight', 'backbone.convnext.3.dwconv.bias', 'backbone.convnext.3.norm.weight', 'backbone.convnext.3.norm.bias', 'backbone.convnext.3.pwconv1.weight', 'backbone.convnext.3.pwconv1.bias', 'backbone.convnext.3.pwconv2.weight', 'backbone.convnext.3.pwconv2.bias', 'backbone.convnext.4.gamma', 'backbone.convnext.4.dwconv.weight', 'backbone.convnext.4.dwconv.bias', 'backbone.convnext.4.norm.weight', 'backbone.convnext.4.norm.bias', 'backbone.convnext.4.pwconv1.weight', 'backbone.convnext.4.pwconv1.bias', 'backbone.convnext.4.pwconv2.weight', 'backbone.convnext.4.pwconv2.bias', 'backbone.convnext.5.gamma', 'backbone.convnext.5.dwconv.weight', 'backbone.convnext.5.dwconv.bias', 'backbone.convnext.5.norm.weight', 'backbone.convnext.5.norm.bias', 'backbone.convnext.5.pwconv1.weight', 'backbone.convnext.5.pwconv1.bias', 'backbone.convnext.5.pwconv2.weight', 'backbone.convnext.5.pwconv2.bias', 'backbone.convnext.6.gamma', 'backbone.convnext.6.dwconv.weight', 'backbone.convnext.6.dwconv.bias', 'backbone.convnext.6.norm.weight', 'backbone.convnext.6.norm.bias', 'backbone.convnext.6.pwconv1.weight', 'backbone.convnext.6.pwconv1.bias', 'backbone.convnext.6.pwconv2.weight', 'backbone.convnext.6.pwconv2.bias', 'backbone.convnext.7.gamma', 'backbone.convnext.7.dwconv.weight', 'backbone.convnext.7.dwconv.bias', 'backbone.convnext.7.norm.weight', 'backbone.convnext.7.norm.bias', 'backbone.convnext.7.pwconv1.weight', 'backbone.convnext.7.pwconv1.bias', 'backbone.convnext.7.pwconv2.weight', 'backbone.convnext.7.pwconv2.bias', 'backbone.final_layer_norm.weight', 'backbone.final_layer_norm.bias', 'head.out.weight', 'head.out.bias', 'head.istft.window', 'multiperioddisc.discriminators.0.convs.0.bias', 'multiperioddisc.discriminators.0.convs.0.weight_g', 'multiperioddisc.discriminators.0.convs.0.weight_v', 'multiperioddisc.discriminators.0.convs.1.bias', 'multiperioddisc.discriminators.0.convs.1.weight_g', 'multiperioddisc.discriminators.0.convs.1.weight_v', 'multiperioddisc.discriminators.0.convs.2.bias', 'multiperioddisc.discriminators.0.convs.2.weight_g', 'multiperioddisc.discriminators.0.convs.2.weight_v', 'multiperioddisc.discriminators.0.convs.3.bias', 'multiperioddisc.discriminators.0.convs.3.weight_g', 'multiperioddisc.discriminators.0.convs.3.weight_v', 'multiperioddisc.discriminators.0.convs.4.bias', 'multiperioddisc.discriminators.0.convs.4.weight_g', 'multiperioddisc.discriminators.0.convs.4.weight_v', 'multiperioddisc.discriminators.0.conv_post.bias', 'multiperioddisc.discriminators.0.conv_post.weight_g', 'multiperioddisc.discriminators.0.conv_post.weight_v', 'multiperioddisc.discriminators.1.convs.0.bias', 'multiperioddisc.discriminators.1.convs.0.weight_g', 'multiperioddisc.discriminators.1.convs.0.weight_v', 'multiperioddisc.discriminators.1.convs.1.bias', 'multiperioddisc.discriminators.1.convs.1.weight_g', 'multiperioddisc.discriminators.1.convs.1.weight_v', 'multiperioddisc.discriminators.1.convs.2.bias', 'multiperioddisc.discriminators.1.convs.2.weight_g', 'multiperioddisc.discriminators.1.convs.2.weight_v', 'multiperioddisc.discriminators.1.convs.3.bias', 'multiperioddisc.discriminators.1.convs.3.weight_g', 'multiperioddisc.discriminators.1.convs.3.weight_v', 'multiperioddisc.discriminators.1.convs.4.bias', 'multiperioddisc.discriminators.1.convs.4.weight_g', 'multiperioddisc.discriminators.1.convs.4.weight_v', 'multiperioddisc.discriminators.1.conv_post.bias', 'multiperioddisc.discriminators.1.conv_post.weight_g', 'multiperioddisc.discriminators.1.conv_post.weight_v', 'multiperioddisc.discriminators.2.convs.0.bias', 'multiperioddisc.discriminators.2.convs.0.weight_g', 'multiperioddisc.discriminators.2.convs.0.weight_v', 'multiperioddisc.discriminators.2.convs.1.bias', 'multiperioddisc.discriminators.2.convs.1.weight_g', 'multiperioddisc.discriminators.2.convs.1.weight_v', 'multiperioddisc.discriminators.2.convs.2.bias', 'multiperioddisc.discriminators.2.convs.2.weight_g', 'multiperioddisc.discriminators.2.convs.2.weight_v', 'multiperioddisc.discriminators.2.convs.3.bias', 'multiperioddisc.discriminators.2.convs.3.weight_g', 'multiperioddisc.discriminators.2.convs.3.weight_v', 'multiperioddisc.discriminators.2.convs.4.bias', 'multiperioddisc.discriminators.2.convs.4.weight_g', 'multiperioddisc.discriminators.2.convs.4.weight_v', 'multiperioddisc.discriminators.2.conv_post.bias', 'multiperioddisc.discriminators.2.conv_post.weight_g', 'multiperioddisc.discriminators.2.conv_post.weight_v', 'multiperioddisc.discriminators.3.convs.0.bias', 'multiperioddisc.discriminators.3.convs.0.weight_g', 'multiperioddisc.discriminators.3.convs.0.weight_v', 'multiperioddisc.discriminators.3.convs.1.bias', 'multiperioddisc.discriminators.3.convs.1.weight_g', 'multiperioddisc.discriminators.3.convs.1.weight_v', 'multiperioddisc.discriminators.3.convs.2.bias', 'multiperioddisc.discriminators.3.convs.2.weight_g', 'multiperioddisc.discriminators.3.convs.2.weight_v', 'multiperioddisc.discriminators.3.convs.3.bias', 'multiperioddisc.discriminators.3.convs.3.weight_g', 'multiperioddisc.discriminators.3.convs.3.weight_v', 'multiperioddisc.discriminators.3.convs.4.bias', 'multiperioddisc.discriminators.3.convs.4.weight_g', 'multiperioddisc.discriminators.3.convs.4.weight_v', 'multiperioddisc.discriminators.3.conv_post.bias', 'multiperioddisc.discriminators.3.conv_post.weight_g', 'multiperioddisc.discriminators.3.conv_post.weight_v', 'multiperioddisc.discriminators.4.convs.0.bias', 'multiperioddisc.discriminators.4.convs.0.weight_g', 'multiperioddisc.discriminators.4.convs.0.weight_v', 'multiperioddisc.discriminators.4.convs.1.bias', 'multiperioddisc.discriminators.4.convs.1.weight_g', 'multiperioddisc.discriminators.4.convs.1.weight_v', 'multiperioddisc.discriminators.4.convs.2.bias', 'multiperioddisc.discriminators.4.convs.2.weight_g', 'multiperioddisc.discriminators.4.convs.2.weight_v', 'multiperioddisc.discriminators.4.convs.3.bias', 'multiperioddisc.discriminators.4.convs.3.weight_g', 'multiperioddisc.discriminators.4.convs.3.weight_v', 'multiperioddisc.discriminators.4.convs.4.bias', 'multiperioddisc.discriminators.4.convs.4.weight_g', 'multiperioddisc.discriminators.4.convs.4.weight_v', 'multiperioddisc.discriminators.4.conv_post.bias', 'multiperioddisc.discriminators.4.conv_post.weight_g', 'multiperioddisc.discriminators.4.conv_post.weight_v', 'multiresddisc.discriminators.0.spec_fn.window', 'multiresddisc.discriminators.0.band_convs.0.0.bias', 'multiresddisc.discriminators.0.band_convs.0.0.weight_g', 'multiresddisc.discriminators.0.band_convs.0.0.weight_v', 'multiresddisc.discriminators.0.band_convs.0.1.bias', 'multiresddisc.discriminators.0.band_convs.0.1.weight_g', 'multiresddisc.discriminators.0.band_convs.0.1.weight_v', 'multiresddisc.discriminators.0.band_convs.0.2.bias', 'multiresddisc.discriminators.0.band_convs.0.2.weight_g', 'multiresddisc.discriminators.0.band_convs.0.2.weight_v', 'multiresddisc.discriminators.0.band_convs.0.3.bias', 'multiresddisc.discriminators.0.band_convs.0.3.weight_g', 'multiresddisc.discriminators.0.band_convs.0.3.weight_v', 'multiresddisc.discriminators.0.band_convs.0.4.bias', 'multiresddisc.discriminators.0.band_convs.0.4.weight_g', 'multiresddisc.discriminators.0.band_convs.0.4.weight_v', 'multiresddisc.discriminators.0.band_convs.1.0.bias', 'multiresddisc.discriminators.0.band_convs.1.0.weight_g', 'multiresddisc.discriminators.0.band_convs.1.0.weight_v', 'multiresddisc.discriminators.0.band_convs.1.1.bias', 'multiresddisc.discriminators.0.band_convs.1.1.weight_g', 'multiresddisc.discriminators.0.band_convs.1.1.weight_v', 'multiresddisc.discriminators.0.band_convs.1.2.bias', 'multiresddisc.discriminators.0.band_convs.1.2.weight_g', 'multiresddisc.discriminators.0.band_convs.1.2.weight_v', 'multiresddisc.discriminators.0.band_convs.1.3.bias', 'multiresddisc.discriminators.0.band_convs.1.3.weight_g', 'multiresddisc.discriminators.0.band_convs.1.3.weight_v', 'multiresddisc.discriminators.0.band_convs.1.4.bias', 'multiresddisc.discriminators.0.band_convs.1.4.weight_g', 'multiresddisc.discriminators.0.band_convs.1.4.weight_v', 'multiresddisc.discriminators.0.band_convs.2.0.bias', 'multiresddisc.discriminators.0.band_convs.2.0.weight_g', 'multiresddisc.discriminators.0.band_convs.2.0.weight_v', 'multiresddisc.discriminators.0.band_convs.2.1.bias', 'multiresddisc.discriminators.0.band_convs.2.1.weight_g', 'multiresddisc.discriminators.0.band_convs.2.1.weight_v', 'multiresddisc.discriminators.0.band_convs.2.2.bias', 'multiresddisc.discriminators.0.band_convs.2.2.weight_g', 'multiresddisc.discriminators.0.band_convs.2.2.weight_v', 'multiresddisc.discriminators.0.band_convs.2.3.bias', 'multiresddisc.discriminators.0.band_convs.2.3.weight_g', 'multiresddisc.discriminators.0.band_convs.2.3.weight_v', 'multiresddisc.discriminators.0.band_convs.2.4.bias', 'multiresddisc.discriminators.0.band_convs.2.4.weight_g', 'multiresddisc.discriminators.0.band_convs.2.4.weight_v', 'multiresddisc.discriminators.0.band_convs.3.0.bias', 'multiresddisc.discriminators.0.band_convs.3.0.weight_g', 'multiresddisc.discriminators.0.band_convs.3.0.weight_v', 'multiresddisc.discriminators.0.band_convs.3.1.bias', 'multiresddisc.discriminators.0.band_convs.3.1.weight_g', 'multiresddisc.discriminators.0.band_convs.3.1.weight_v', 'multiresddisc.discriminators.0.band_convs.3.2.bias', 'multiresddisc.discriminators.0.band_convs.3.2.weight_g', 'multiresddisc.discriminators.0.band_convs.3.2.weight_v', 'multiresddisc.discriminators.0.band_convs.3.3.bias', 'multiresddisc.discriminators.0.band_convs.3.3.weight_g', 'multiresddisc.discriminators.0.band_convs.3.3.weight_v', 'multiresddisc.discriminators.0.band_convs.3.4.bias', 'multiresddisc.discriminators.0.band_convs.3.4.weight_g', 'multiresddisc.discriminators.0.band_convs.3.4.weight_v', 'multiresddisc.discriminators.0.band_convs.4.0.bias', 'multiresddisc.discriminators.0.band_convs.4.0.weight_g', 'multiresddisc.discriminators.0.band_convs.4.0.weight_v', 'multiresddisc.discriminators.0.band_convs.4.1.bias', 'multiresddisc.discriminators.0.band_convs.4.1.weight_g', 'multiresddisc.discriminators.0.band_convs.4.1.weight_v', 'multiresddisc.discriminators.0.band_convs.4.2.bias', 'multiresddisc.discriminators.0.band_convs.4.2.weight_g', 'multiresddisc.discriminators.0.band_convs.4.2.weight_v', 'multiresddisc.discriminators.0.band_convs.4.3.bias', 'multiresddisc.discriminators.0.band_convs.4.3.weight_g', 'multiresddisc.discriminators.0.band_convs.4.3.weight_v', 'multiresddisc.discriminators.0.band_convs.4.4.bias', 'multiresddisc.discriminators.0.band_convs.4.4.weight_g', 'multiresddisc.discriminators.0.band_convs.4.4.weight_v', 'multiresddisc.discriminators.0.conv_post.bias', 'multiresddisc.discriminators.0.conv_post.weight_g', 'multiresddisc.discriminators.0.conv_post.weight_v', 'multiresddisc.discriminators.1.spec_fn.window', 'multiresddisc.discriminators.1.band_convs.0.0.bias', 'multiresddisc.discriminators.1.band_convs.0.0.weight_g', 'multiresddisc.discriminators.1.band_convs.0.0.weight_v', 'multiresddisc.discriminators.1.band_convs.0.1.bias', 'multiresddisc.discriminators.1.band_convs.0.1.weight_g', 'multiresddisc.discriminators.1.band_convs.0.1.weight_v', 'multiresddisc.discriminators.1.band_convs.0.2.bias', 'multiresddisc.discriminators.1.band_convs.0.2.weight_g', 'multiresddisc.discriminators.1.band_convs.0.2.weight_v', 'multiresddisc.discriminators.1.band_convs.0.3.bias', 'multiresddisc.discriminators.1.band_convs.0.3.weight_g', 'multiresddisc.discriminators.1.band_convs.0.3.weight_v', 'multiresddisc.discriminators.1.band_convs.0.4.bias', 'multiresddisc.discriminators.1.band_convs.0.4.weight_g', 'multiresddisc.discriminators.1.band_convs.0.4.weight_v', 'multiresddisc.discriminators.1.band_convs.1.0.bias', 'multiresddisc.discriminators.1.band_convs.1.0.weight_g', 'multiresddisc.discriminators.1.band_convs.1.0.weight_v', 'multiresddisc.discriminators.1.band_convs.1.1.bias', 'multiresddisc.discriminators.1.band_convs.1.1.weight_g', 'multiresddisc.discriminators.1.band_convs.1.1.weight_v', 'multiresddisc.discriminators.1.band_convs.1.2.bias', 'multiresddisc.discriminators.1.band_convs.1.2.weight_g', 'multiresddisc.discriminators.1.band_convs.1.2.weight_v', 'multiresddisc.discriminators.1.band_convs.1.3.bias', 'multiresddisc.discriminators.1.band_convs.1.3.weight_g', 'multiresddisc.discriminators.1.band_convs.1.3.weight_v', 'multiresddisc.discriminators.1.band_convs.1.4.bias', 'multiresddisc.discriminators.1.band_convs.1.4.weight_g', 'multiresddisc.discriminators.1.band_convs.1.4.weight_v', 'multiresddisc.discriminators.1.band_convs.2.0.bias', 'multiresddisc.discriminators.1.band_convs.2.0.weight_g', 'multiresddisc.discriminators.1.band_convs.2.0.weight_v', 'multiresddisc.discriminators.1.band_convs.2.1.bias', 'multiresddisc.discriminators.1.band_convs.2.1.weight_g', 'multiresddisc.discriminators.1.band_convs.2.1.weight_v', 'multiresddisc.discriminators.1.band_convs.2.2.bias', 'multiresddisc.discriminators.1.band_convs.2.2.weight_g', 'multiresddisc.discriminators.1.band_convs.2.2.weight_v', 'multiresddisc.discriminators.1.band_convs.2.3.bias', 'multiresddisc.discriminators.1.band_convs.2.3.weight_g', 'multiresddisc.discriminators.1.band_convs.2.3.weight_v', 'multiresddisc.discriminators.1.band_convs.2.4.bias', 'multiresddisc.discriminators.1.band_convs.2.4.weight_g', 'multiresddisc.discriminators.1.band_convs.2.4.weight_v', 'multiresddisc.discriminators.1.band_convs.3.0.bias', 'multiresddisc.discriminators.1.band_convs.3.0.weight_g', 'multiresddisc.discriminators.1.band_convs.3.0.weight_v', 'multiresddisc.discriminators.1.band_convs.3.1.bias', 'multiresddisc.discriminators.1.band_convs.3.1.weight_g', 'multiresddisc.discriminators.1.band_convs.3.1.weight_v', 'multiresddisc.discriminators.1.band_convs.3.2.bias', 'multiresddisc.discriminators.1.band_convs.3.2.weight_g', 'multiresddisc.discriminators.1.band_convs.3.2.weight_v', 'multiresddisc.discriminators.1.band_convs.3.3.bias', 'multiresddisc.discriminators.1.band_convs.3.3.weight_g', 'multiresddisc.discriminators.1.band_convs.3.3.weight_v', 'multiresddisc.discriminators.1.band_convs.3.4.bias', 'multiresddisc.discriminators.1.band_convs.3.4.weight_g', 'multiresddisc.discriminators.1.band_convs.3.4.weight_v', 'multiresddisc.discriminators.1.band_convs.4.0.bias', 'multiresddisc.discriminators.1.band_convs.4.0.weight_g', 'multiresddisc.discriminators.1.band_convs.4.0.weight_v', 'multiresddisc.discriminators.1.band_convs.4.1.bias', 'multiresddisc.discriminators.1.band_convs.4.1.weight_g', 'multiresddisc.discriminators.1.band_convs.4.1.weight_v', 'multiresddisc.discriminators.1.band_convs.4.2.bias', 'multiresddisc.discriminators.1.band_convs.4.2.weight_g', 'multiresddisc.discriminators.1.band_convs.4.2.weight_v', 'multiresddisc.discriminators.1.band_convs.4.3.bias', 'multiresddisc.discriminators.1.band_convs.4.3.weight_g', 'multiresddisc.discriminators.1.band_convs.4.3.weight_v', 'multiresddisc.discriminators.1.band_convs.4.4.bias', 'multiresddisc.discriminators.1.band_convs.4.4.weight_g', 'multiresddisc.discriminators.1.band_convs.4.4.weight_v', 'multiresddisc.discriminators.1.conv_post.bias', 'multiresddisc.discriminators.1.conv_post.weight_g', 'multiresddisc.discriminators.1.conv_post.weight_v', 'multiresddisc.discriminators.2.spec_fn.window', 'multiresddisc.discriminators.2.band_convs.0.0.bias', 'multiresddisc.discriminators.2.band_convs.0.0.weight_g', 'multiresddisc.discriminators.2.band_convs.0.0.weight_v', 'multiresddisc.discriminators.2.band_convs.0.1.bias', 'multiresddisc.discriminators.2.band_convs.0.1.weight_g', 'multiresddisc.discriminators.2.band_convs.0.1.weight_v', 'multiresddisc.discriminators.2.band_convs.0.2.bias', 'multiresddisc.discriminators.2.band_convs.0.2.weight_g', 'multiresddisc.discriminators.2.band_convs.0.2.weight_v', 'multiresddisc.discriminators.2.band_convs.0.3.bias', 'multiresddisc.discriminators.2.band_convs.0.3.weight_g', 'multiresddisc.discriminators.2.band_convs.0.3.weight_v', 'multiresddisc.discriminators.2.band_convs.0.4.bias', 'multiresddisc.discriminators.2.band_convs.0.4.weight_g', 'multiresddisc.discriminators.2.band_convs.0.4.weight_v', 'multiresddisc.discriminators.2.band_convs.1.0.bias', 'multiresddisc.discriminators.2.band_convs.1.0.weight_g', 'multiresddisc.discriminators.2.band_convs.1.0.weight_v', 'multiresddisc.discriminators.2.band_convs.1.1.bias', 'multiresddisc.discriminators.2.band_convs.1.1.weight_g', 'multiresddisc.discriminators.2.band_convs.1.1.weight_v', 'multiresddisc.discriminators.2.band_convs.1.2.bias', 'multiresddisc.discriminators.2.band_convs.1.2.weight_g', 'multiresddisc.discriminators.2.band_convs.1.2.weight_v', 'multiresddisc.discriminators.2.band_convs.1.3.bias', 'multiresddisc.discriminators.2.band_convs.1.3.weight_g', 'multiresddisc.discriminators.2.band_convs.1.3.weight_v', 'multiresddisc.discriminators.2.band_convs.1.4.bias', 'multiresddisc.discriminators.2.band_convs.1.4.weight_g', 'multiresddisc.discriminators.2.band_convs.1.4.weight_v', 'multiresddisc.discriminators.2.band_convs.2.0.bias', 'multiresddisc.discriminators.2.band_convs.2.0.weight_g', 'multiresddisc.discriminators.2.band_convs.2.0.weight_v', 'multiresddisc.discriminators.2.band_convs.2.1.bias', 'multiresddisc.discriminators.2.band_convs.2.1.weight_g', 'multiresddisc.discriminators.2.band_convs.2.1.weight_v', 'multiresddisc.discriminators.2.band_convs.2.2.bias', 'multiresddisc.discriminators.2.band_convs.2.2.weight_g', 'multiresddisc.discriminators.2.band_convs.2.2.weight_v', 'multiresddisc.discriminators.2.band_convs.2.3.bias', 'multiresddisc.discriminators.2.band_convs.2.3.weight_g', 'multiresddisc.discriminators.2.band_convs.2.3.weight_v', 'multiresddisc.discriminators.2.band_convs.2.4.bias', 'multiresddisc.discriminators.2.band_convs.2.4.weight_g', 'multiresddisc.discriminators.2.band_convs.2.4.weight_v', 'multiresddisc.discriminators.2.band_convs.3.0.bias', 'multiresddisc.discriminators.2.band_convs.3.0.weight_g', 'multiresddisc.discriminators.2.band_convs.3.0.weight_v', 'multiresddisc.discriminators.2.band_convs.3.1.bias', 'multiresddisc.discriminators.2.band_convs.3.1.weight_g', 'multiresddisc.discriminators.2.band_convs.3.1.weight_v', 'multiresddisc.discriminators.2.band_convs.3.2.bias', 'multiresddisc.discriminators.2.band_convs.3.2.weight_g', 'multiresddisc.discriminators.2.band_convs.3.2.weight_v', 'multiresddisc.discriminators.2.band_convs.3.3.bias', 'multiresddisc.discriminators.2.band_convs.3.3.weight_g', 'multiresddisc.discriminators.2.band_convs.3.3.weight_v', 'multiresddisc.discriminators.2.band_convs.3.4.bias', 'multiresddisc.discriminators.2.band_convs.3.4.weight_g', 'multiresddisc.discriminators.2.band_convs.3.4.weight_v', 'multiresddisc.discriminators.2.band_convs.4.0.bias', 'multiresddisc.discriminators.2.band_convs.4.0.weight_g', 'multiresddisc.discriminators.2.band_convs.4.0.weight_v', 'multiresddisc.discriminators.2.band_convs.4.1.bias', 'multiresddisc.discriminators.2.band_convs.4.1.weight_g', 'multiresddisc.discriminators.2.band_convs.4.1.weight_v', 'multiresddisc.discriminators.2.band_convs.4.2.bias', 'multiresddisc.discriminators.2.band_convs.4.2.weight_g', 'multiresddisc.discriminators.2.band_convs.4.2.weight_v', 'multiresddisc.discriminators.2.band_convs.4.3.bias', 'multiresddisc.discriminators.2.band_convs.4.3.weight_g', 'multiresddisc.discriminators.2.band_convs.4.3.weight_v', 'multiresddisc.discriminators.2.band_convs.4.4.bias', 'multiresddisc.discriminators.2.band_convs.4.4.weight_g', 'multiresddisc.discriminators.2.band_convs.4.4.weight_v', 'multiresddisc.discriminators.2.conv_post.bias', 'multiresddisc.discriminators.2.conv_post.weight_g', 'multiresddisc.discriminators.2.conv_post.weight_v', 'melspec_loss.mel_spec.spectrogram.window', 'melspec_loss.mel_spec.mel_scale.fb'])"
      ]
     },
     "execution_count": 15,
     "metadata": {},
     "output_type": "execute_result"
    }
   ],
   "source": [
    "\n"
   ]
  },
  {
   "cell_type": "code",
   "execution_count": 4,
   "id": "68abb54a",
   "metadata": {},
   "outputs": [
    {
     "name": "stdout",
     "output_type": "stream",
     "text": [
      "1.696018\n",
      "/data2/tansongbin/bwe_dataset/online_data/online_fix/benchmark1/output1/downsampled_online_generated.wav\n"
     ]
    }
   ],
   "source": [
    "# device = torch.device(\"cuda\" if torch.cuda.is_available() else \"cpu\")\n",
    "device='cpu'\n",
    "vocos = Vocos.from_pretrained(\"charactr/vocos-mel-24khz\").to(device)\n",
    "ckpt_path = '/data3/tansongbin/vocoder_projects/vocos/logs/lightning_logs/version_13/checkpoints/vocos_checkpoint_epoch=11_step=75720_val_loss=4.7365.ckpt'\n",
    "interface = torch.load(ckpt_path).to(device)\n",
    "vocos.load_state_dict(interface['state_dict'],strict=False)\n",
    "\n",
    "inpath=r'/data2/tansongbin/bwe_dataset/online_data/online_fix/benchmark1/input'\n",
    "outpath=r'/data2/tansongbin/bwe_dataset/online_data/online_fix/benchmark1/output1'\n",
    "check_path(outpath)\n",
    "\n",
    "L = file_pathname(inpath,'.wav')\n",
    "for p,n in L[:10]:\n",
    "    y, sr = torchaudio.load(os.path.join(p,n+'.wav'))\n",
    "    if y.size(0) > 1:  # mix to mono\n",
    "        y = y.mean(dim=0, keepdim=True)\n",
    "    y = torchaudio.functional.resample(y, orig_freq=sr, new_freq=24000).to(device)\n",
    "    y_g_hat = vocos(y)\n",
    "    audio = y_g_hat.squeeze().cpu().numpy()\n",
    "    audio = librosa.resample(y=audio, orig_sr=24000, target_sr=16000)\n",
    "    if np.max(np.abs(audio)) > 1.0:\n",
    "        print(np.max(np.abs(audio)))\n",
    "        audio/=np.max(np.abs(audio))\n",
    "    output_file = os.path.join(outpath, n+'_generated.wav')\n",
    "    sf.write(output_file, audio, 16000)\n",
    "    print(output_file)"
   ]
  },
  {
   "cell_type": "code",
   "execution_count": 4,
   "id": "cf933c73",
   "metadata": {},
   "outputs": [
    {
     "data": {
      "text/plain": [
       "array([ 3.6177430e-06,  5.3062704e-06, -1.8884533e-06, ...,\n",
       "       -5.1196505e-05, -2.7590577e-04,  0.0000000e+00], dtype=float32)"
      ]
     },
     "execution_count": 4,
     "metadata": {},
     "output_type": "execute_result"
    }
   ],
   "source": [
    "# sf.write(output_file, audio, 16000)\n"
   ]
  },
  {
   "cell_type": "code",
   "execution_count": 9,
   "id": "4a7053d0",
   "metadata": {},
   "outputs": [
    {
     "ename": "NameError",
     "evalue": "name 'interface' is not defined",
     "output_type": "error",
     "traceback": [
      "\u001b[0;31m---------------------------------------------------------------------------\u001b[0m",
      "\u001b[0;31mNameError\u001b[0m                                 Traceback (most recent call last)",
      "Cell \u001b[0;32mIn[9], line 1\u001b[0m\n\u001b[0;32m----> 1\u001b[0m interface\n",
      "\u001b[0;31mNameError\u001b[0m: name 'interface' is not defined"
     ]
    }
   ],
   "source": []
  },
  {
   "cell_type": "code",
   "execution_count": null,
   "id": "cc316e59",
   "metadata": {},
   "outputs": [],
   "source": []
  }
 ],
 "metadata": {
  "kernelspec": {
   "display_name": "base",
   "language": "python",
   "name": "python3"
  },
  "language_info": {
   "codemirror_mode": {
    "name": "ipython",
    "version": 3
   },
   "file_extension": ".py",
   "mimetype": "text/x-python",
   "name": "python",
   "nbconvert_exporter": "python",
   "pygments_lexer": "ipython3",
   "version": "3.9.13"
  }
 },
 "nbformat": 4,
 "nbformat_minor": 5
}
