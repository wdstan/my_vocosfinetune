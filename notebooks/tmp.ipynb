{
 "cells": [
  {
   "cell_type": "code",
   "execution_count": 28,
   "metadata": {},
   "outputs": [],
   "source": [
    "import numpy as np\n",
    "import sys\n",
    "sys.path.append('../')\n",
    "from vocos import Vocos,VocosExp,feature_extractors,models,heads\n",
    "import torch\n"
   ]
  },
  {
   "cell_type": "code",
   "execution_count": 5,
   "metadata": {},
   "outputs": [],
   "source": []
  },
  {
   "cell_type": "code",
   "execution_count": 33,
   "metadata": {},
   "outputs": [],
   "source": [
    "# Downloading: \"https://dl.fbaipublicfiles.com/encodec/v0/encodec_24khz-d7cc33bc.th\" \n",
    "# to /home/tansongbin/.cache/torch/hub/checkpoints/encodec_24khz-d7cc33bc.th\n",
    "\n",
    "vocosModelMel = Vocos.from_pretrained(\"charactr/vocos-mel-24khz\")"
   ]
  },
  {
   "cell_type": "code",
   "execution_count": 34,
   "metadata": {},
   "outputs": [],
   "source": [
    "# feature_extractor = feature_extractors.MelSpectrogramFeatures()\n",
    "# back_bone = models.VocosBackbone()\n",
    "# head = heads.ISTFTHead()\n",
    "x=VocosExp(vocosModelMel.feature_extractor,vocosModelMel.backbone,vocosModelMel.head,48000,48000)"
   ]
  },
  {
   "cell_type": "code",
   "execution_count": 35,
   "metadata": {},
   "outputs": [
    {
     "data": {
      "text/plain": [
       "(412, 83)"
      ]
     },
     "execution_count": 35,
     "metadata": {},
     "output_type": "execute_result"
    }
   ],
   "source": [
    "len(x.state_dict().keys()),len(vocosModelMel.state_dict().keys())"
   ]
  },
  {
   "cell_type": "code",
   "execution_count": 32,
   "metadata": {},
   "outputs": [
    {
     "data": {
      "text/plain": [
       "83"
      ]
     },
     "execution_count": 32,
     "metadata": {},
     "output_type": "execute_result"
    }
   ],
   "source": []
  },
  {
   "cell_type": "code",
   "execution_count": 9,
   "metadata": {},
   "outputs": [],
   "source": [
    "x = torch.load(r'/home/tansongbin/.cache/torch/hub/checkpoints/encodec_24khz-d7cc33bc.th')"
   ]
  },
  {
   "cell_type": "code",
   "execution_count": null,
   "metadata": {},
   "outputs": [],
   "source": [
    "torch.nn.Conv2d()"
   ]
  },
  {
   "cell_type": "code",
   "execution_count": 13,
   "metadata": {},
   "outputs": [],
   "source": [
    "import torchaudio\n",
    "\n",
    "y, sr = torchaudio.load('/data3/tansongbin/vocoder_projects/dataset/input/vocos_input2.wav')\n",
    "if y.size(0) > 1:  # mix to mono\n",
    "    y = y.mean(dim=0, keepdim=True)\n",
    "y = torchaudio.functional.resample(y, orig_freq=sr, new_freq=24000)\n",
    "y_hat = vocosModelMel(y)\n",
    "torchaudio.save('/data3/tansongbin/vocoder_projects/dataset/output/vocos_output2.wav',y_hat,24000)"
   ]
  },
  {
   "cell_type": "code",
   "execution_count": 15,
   "metadata": {},
   "outputs": [
    {
     "data": {
      "text/plain": [
       "<bound method Module.modules of Vocos(\n",
       "  (feature_extractor): MelSpectrogramFeatures(\n",
       "    (mel_spec): MelSpectrogram(\n",
       "      (spectrogram): Spectrogram()\n",
       "      (mel_scale): MelScale()\n",
       "    )\n",
       "  )\n",
       "  (backbone): VocosBackbone(\n",
       "    (embed): Conv1d(100, 512, kernel_size=(7,), stride=(1,), padding=(3,))\n",
       "    (norm): LayerNorm((512,), eps=1e-06, elementwise_affine=True)\n",
       "    (convnext): ModuleList(\n",
       "      (0): ConvNeXtBlock(\n",
       "        (dwconv): Conv1d(512, 512, kernel_size=(7,), stride=(1,), padding=(3,), groups=512)\n",
       "        (norm): LayerNorm((512,), eps=1e-06, elementwise_affine=True)\n",
       "        (pwconv1): Linear(in_features=512, out_features=1536, bias=True)\n",
       "        (act): GELU(approximate='none')\n",
       "        (pwconv2): Linear(in_features=1536, out_features=512, bias=True)\n",
       "      )\n",
       "      (1): ConvNeXtBlock(\n",
       "        (dwconv): Conv1d(512, 512, kernel_size=(7,), stride=(1,), padding=(3,), groups=512)\n",
       "        (norm): LayerNorm((512,), eps=1e-06, elementwise_affine=True)\n",
       "        (pwconv1): Linear(in_features=512, out_features=1536, bias=True)\n",
       "        (act): GELU(approximate='none')\n",
       "        (pwconv2): Linear(in_features=1536, out_features=512, bias=True)\n",
       "      )\n",
       "      (2): ConvNeXtBlock(\n",
       "        (dwconv): Conv1d(512, 512, kernel_size=(7,), stride=(1,), padding=(3,), groups=512)\n",
       "        (norm): LayerNorm((512,), eps=1e-06, elementwise_affine=True)\n",
       "        (pwconv1): Linear(in_features=512, out_features=1536, bias=True)\n",
       "        (act): GELU(approximate='none')\n",
       "        (pwconv2): Linear(in_features=1536, out_features=512, bias=True)\n",
       "      )\n",
       "      (3): ConvNeXtBlock(\n",
       "        (dwconv): Conv1d(512, 512, kernel_size=(7,), stride=(1,), padding=(3,), groups=512)\n",
       "        (norm): LayerNorm((512,), eps=1e-06, elementwise_affine=True)\n",
       "        (pwconv1): Linear(in_features=512, out_features=1536, bias=True)\n",
       "        (act): GELU(approximate='none')\n",
       "        (pwconv2): Linear(in_features=1536, out_features=512, bias=True)\n",
       "      )\n",
       "      (4): ConvNeXtBlock(\n",
       "        (dwconv): Conv1d(512, 512, kernel_size=(7,), stride=(1,), padding=(3,), groups=512)\n",
       "        (norm): LayerNorm((512,), eps=1e-06, elementwise_affine=True)\n",
       "        (pwconv1): Linear(in_features=512, out_features=1536, bias=True)\n",
       "        (act): GELU(approximate='none')\n",
       "        (pwconv2): Linear(in_features=1536, out_features=512, bias=True)\n",
       "      )\n",
       "      (5): ConvNeXtBlock(\n",
       "        (dwconv): Conv1d(512, 512, kernel_size=(7,), stride=(1,), padding=(3,), groups=512)\n",
       "        (norm): LayerNorm((512,), eps=1e-06, elementwise_affine=True)\n",
       "        (pwconv1): Linear(in_features=512, out_features=1536, bias=True)\n",
       "        (act): GELU(approximate='none')\n",
       "        (pwconv2): Linear(in_features=1536, out_features=512, bias=True)\n",
       "      )\n",
       "      (6): ConvNeXtBlock(\n",
       "        (dwconv): Conv1d(512, 512, kernel_size=(7,), stride=(1,), padding=(3,), groups=512)\n",
       "        (norm): LayerNorm((512,), eps=1e-06, elementwise_affine=True)\n",
       "        (pwconv1): Linear(in_features=512, out_features=1536, bias=True)\n",
       "        (act): GELU(approximate='none')\n",
       "        (pwconv2): Linear(in_features=1536, out_features=512, bias=True)\n",
       "      )\n",
       "      (7): ConvNeXtBlock(\n",
       "        (dwconv): Conv1d(512, 512, kernel_size=(7,), stride=(1,), padding=(3,), groups=512)\n",
       "        (norm): LayerNorm((512,), eps=1e-06, elementwise_affine=True)\n",
       "        (pwconv1): Linear(in_features=512, out_features=1536, bias=True)\n",
       "        (act): GELU(approximate='none')\n",
       "        (pwconv2): Linear(in_features=1536, out_features=512, bias=True)\n",
       "      )\n",
       "    )\n",
       "    (final_layer_norm): LayerNorm((512,), eps=1e-06, elementwise_affine=True)\n",
       "  )\n",
       "  (head): ISTFTHead(\n",
       "    (out): Linear(in_features=512, out_features=1026, bias=True)\n",
       "    (istft): ISTFT()\n",
       "  )\n",
       ")>"
      ]
     },
     "execution_count": 15,
     "metadata": {},
     "output_type": "execute_result"
    }
   ],
   "source": [
    "vocosModelMel."
   ]
  },
  {
   "cell_type": "code",
   "execution_count": null,
   "metadata": {},
   "outputs": [],
   "source": []
  },
  {
   "cell_type": "code",
   "execution_count": null,
   "metadata": {},
   "outputs": [],
   "source": [
    "def anti_wrapping_function(x):\n",
    "  return torch.abs(x - torch.round(x / (2 * np.pi)) * 2 * np.pi)\n",
    "\n",
    "\n",
    "def phase_loss(phase_r, phase_g, n_fft, frames):\n",
    "\n",
    "    MSELoss = torch.nn.MSELoss()\n",
    "\n",
    "    GD_matrix = torch.triu(torch.ones(n_fft//2+1,n_fft//2+1),diagonal=1)-torch.triu(torch.ones(n_fft//2+1,n_fft//2+1),diagonal=2)-torch.eye(n_fft//2+1)\n",
    "    GD_matrix = GD_matrix.to(phase_g.device)\n",
    "\n",
    "    GD_r = torch.matmul(phase_r.permute(0,2,1), GD_matrix)\n",
    "    GD_g = torch.matmul(phase_g.permute(0,2,1), GD_matrix)\n",
    "\n",
    "    PTD_matrix = torch.triu(torch.ones(frames,frames),diagonal=1)-torch.triu(torch.ones(frames,frames),diagonal=2)-torch.eye(frames)\n",
    "    PTD_matrix = PTD_matrix.to(phase_g.device)\n",
    "\n",
    "    PTD_r = torch.matmul(phase_r, PTD_matrix)\n",
    "    PTD_g = torch.matmul(phase_g, PTD_matrix)\n",
    "\n",
    "    IP_loss = torch.mean(anti_wrapping_function(phase_r-phase_g))\n",
    "    GD_loss = torch.mean(anti_wrapping_function(GD_r-GD_g))\n",
    "    PTD_loss = torch.mean(anti_wrapping_function(PTD_r-PTD_g))\n",
    "\n",
    "\n",
    "    return IP_loss, GD_loss, PTD_loss"
   ]
  },
  {
   "cell_type": "code",
   "execution_count": 42,
   "metadata": {},
   "outputs": [],
   "source": [
    "n_fft=8\n",
    "tmp1 = torch.triu(torch.ones(n_fft//2+1,n_fft//2+1),diagonal=1)\n",
    "tmp2 = torch.triu(torch.ones(n_fft//2+1,n_fft//2+1),diagonal=2)\n",
    "tmp3 = torch.eye(n_fft//2+1)\n",
    "tmp = torch.triu(torch.ones(n_fft//2+1,n_fft//2+1),diagonal=1)-torch.triu(torch.ones(n_fft//2+1,n_fft//2+1),diagonal=2)-torch.eye(n_fft//2+1)\n"
   ]
  },
  {
   "cell_type": "code",
   "execution_count": 43,
   "metadata": {},
   "outputs": [
    {
     "data": {
      "text/plain": [
       "(tensor([[0., 1., 1., 1., 1.],\n",
       "         [0., 0., 1., 1., 1.],\n",
       "         [0., 0., 0., 1., 1.],\n",
       "         [0., 0., 0., 0., 1.],\n",
       "         [0., 0., 0., 0., 0.]]),\n",
       " tensor([[0., 0., 1., 1., 1.],\n",
       "         [0., 0., 0., 1., 1.],\n",
       "         [0., 0., 0., 0., 1.],\n",
       "         [0., 0., 0., 0., 0.],\n",
       "         [0., 0., 0., 0., 0.]]),\n",
       " tensor([[1., 0., 0., 0., 0.],\n",
       "         [0., 1., 0., 0., 0.],\n",
       "         [0., 0., 1., 0., 0.],\n",
       "         [0., 0., 0., 1., 0.],\n",
       "         [0., 0., 0., 0., 1.]]),\n",
       " tensor([[-1.,  1.,  0.,  0.,  0.],\n",
       "         [ 0., -1.,  1.,  0.,  0.],\n",
       "         [ 0.,  0., -1.,  1.,  0.],\n",
       "         [ 0.,  0.,  0., -1.,  1.],\n",
       "         [ 0.,  0.,  0.,  0., -1.]]))"
      ]
     },
     "execution_count": 43,
     "metadata": {},
     "output_type": "execute_result"
    }
   ],
   "source": [
    "tmp1,tmp2,tmp3,tmp"
   ]
  },
  {
   "cell_type": "code",
   "execution_count": 44,
   "metadata": {},
   "outputs": [
    {
     "data": {
      "text/plain": [
       "(1.9, 1.8636363636363635)"
      ]
     },
     "execution_count": 44,
     "metadata": {},
     "output_type": "execute_result"
    }
   ],
   "source": [
    "0.57/0.3,3.28/1.76"
   ]
  },
  {
   "cell_type": "code",
   "execution_count": 48,
   "metadata": {},
   "outputs": [
    {
     "data": {
      "text/plain": [
       "('v1', 1.9, 'istft', 0.25666666666666665)"
      ]
     },
     "execution_count": 48,
     "metadata": {},
     "output_type": "execute_result"
    }
   ],
   "source": [
    "'v1',57/30,'istft',0.077/0.30"
   ]
  },
  {
   "cell_type": "code",
   "execution_count": 75,
   "metadata": {},
   "outputs": [
    {
     "data": {
      "text/plain": [
       "1.2068965517241381"
      ]
     },
     "execution_count": 75,
     "metadata": {},
     "output_type": "execute_result"
    }
   ],
   "source": [
    "10.5/8.7"
   ]
  },
  {
   "cell_type": "code",
   "execution_count": 74,
   "metadata": {},
   "outputs": [
    {
     "data": {
      "text/plain": [
       "1.8850574712643677"
      ]
     },
     "execution_count": 74,
     "metadata": {},
     "output_type": "execute_result"
    }
   ],
   "source": [
    "16.4/8.7"
   ]
  }
 ],
 "metadata": {
  "kernelspec": {
   "display_name": "bwe",
   "language": "python",
   "name": "python3"
  },
  "language_info": {
   "codemirror_mode": {
    "name": "ipython",
    "version": 3
   },
   "file_extension": ".py",
   "mimetype": "text/x-python",
   "name": "python",
   "nbconvert_exporter": "python",
   "pygments_lexer": "ipython3",
   "version": "3.9.7"
  },
  "orig_nbformat": 4
 },
 "nbformat": 4,
 "nbformat_minor": 2
}
